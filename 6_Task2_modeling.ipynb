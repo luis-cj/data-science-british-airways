{
 "cells": [
  {
   "attachments": {},
   "cell_type": "markdown",
   "metadata": {},
   "source": [
    "# Task 2: Predicting customer buying behaviour\n",
    "## 6. Modeling and evaluation"
   ]
  },
  {
   "attachments": {},
   "cell_type": "markdown",
   "metadata": {},
   "source": [
    "## Import libraries"
   ]
  },
  {
   "cell_type": "code",
   "execution_count": 33,
   "metadata": {},
   "outputs": [],
   "source": [
    "import numpy as np\n",
    "import pandas as pd\n",
    "import matplotlib.pyplot as plt\n",
    "\n",
    "from sklearn.model_selection import train_test_split\n",
    "\n",
    "from sklearn.linear_model import LogisticRegression\n",
    "from sklearn.ensemble import RandomForestClassifier\n",
    "from xgboost import XGBClassifier\n",
    "from sklearn.ensemble import HistGradientBoostingClassifier\n",
    "from sklearn.pipeline import Pipeline\n",
    "\n",
    "from sklearn.model_selection import GridSearchCV\n",
    "from sklearn.model_selection import RandomizedSearchCV\n",
    "\n",
    "from sklearn.metrics import roc_auc_score\n",
    "from sklearn.metrics import confusion_matrix\n",
    "\n",
    "from sklearn.metrics import classification_report\n",
    "\n",
    "\n",
    "import scikitplot as skplt\n",
    "from yellowbrick.classifier import discrimination_threshold\n",
    "\n",
    "pd.options.display.float_format = '{:.2f}'.format\n",
    "\n",
    "import warnings\n",
    "warnings.filterwarnings(\"ignore\")"
   ]
  },
  {
   "attachments": {},
   "cell_type": "markdown",
   "metadata": {},
   "source": [
    "## Load the data"
   ]
  },
  {
   "cell_type": "code",
   "execution_count": 55,
   "metadata": {},
   "outputs": [],
   "source": [
    "x = pd.read_pickle(\"x_bal.pickle\")\n",
    "y = pd.read_pickle(\"y_bal.pickle\")"
   ]
  },
  {
   "attachments": {},
   "cell_type": "markdown",
   "metadata": {},
   "source": [
    "## Modeling"
   ]
  },
  {
   "attachments": {},
   "cell_type": "markdown",
   "metadata": {},
   "source": [
    "#### Split train and test sets"
   ]
  },
  {
   "cell_type": "code",
   "execution_count": 56,
   "metadata": {},
   "outputs": [],
   "source": [
    "train_x,val_x,train_y,val_y = train_test_split(x,y,test_size=0.3)"
   ]
  },
  {
   "attachments": {},
   "cell_type": "markdown",
   "metadata": {},
   "source": [
    "### Hyperparameter tuning using RandomSearchCV"
   ]
  },
  {
   "cell_type": "code",
   "execution_count": 36,
   "metadata": {},
   "outputs": [],
   "source": [
    "pipe = Pipeline([('algorithm',RandomForestClassifier())])\n",
    "\n",
    "grid = [{'algorithm': [LogisticRegression()],\n",
    "         'algorithm__n_jobs': [-1],\n",
    "         'algorithm__solver': ['saga'],\n",
    "         'algorithm__penalty': ['elasticnet', 'l1', 'l2', 'none'],\n",
    "         'algorithm__C': [0,0.25,0.5,0.75,1]},\n",
    "        \n",
    "        {'algorithm': [RandomForestClassifier()],\n",
    "         'algorithm__n_jobs': [-1],\n",
    "         'algorithm__max_depth': [5,10,15],\n",
    "         'algorithm__n_estimators': [50,100,200]},\n",
    "        \n",
    "        {'algorithm': [XGBClassifier()],\n",
    "         'algorithm__n_jobs': [-1],\n",
    "         'algorithm__verbosity': [0],\n",
    "         'algorithm__learning_rate': [0.01,0.025,0.05,0.1],\n",
    "         'algorithm__max_depth': [5,10,20],\n",
    "         'algorithm__reg_alpha': [0,0.1,0.5,1],\n",
    "         'algorithm__reg_lambda': [0.01,0.1,1],\n",
    "         'algorithm__n_estimators': [100,500,1000]},\n",
    "        \n",
    "        {'algorithm': [HistGradientBoostingClassifier()],\n",
    "         'algorithm__learning_rate': [0.01,0.025,0.05,0.1],\n",
    "         'algorithm__max_iter': [50,100,200],\n",
    "         'algorithm__max_depth': [5,10,20],\n",
    "         'algorithm__min_samples_leaf': [500],\n",
    "         'algorithm__scoring': ['roc_auc'],\n",
    "         'algorithm__l2_regularization': [0,0.25,0.5,0.75,1]}\n",
    "       ]"
   ]
  },
  {
   "cell_type": "code",
   "execution_count": 37,
   "metadata": {},
   "outputs": [
    {
     "data": {
      "text/html": [
       "<div>\n",
       "<style scoped>\n",
       "    .dataframe tbody tr th:only-of-type {\n",
       "        vertical-align: middle;\n",
       "    }\n",
       "\n",
       "    .dataframe tbody tr th {\n",
       "        vertical-align: top;\n",
       "    }\n",
       "\n",
       "    .dataframe thead th {\n",
       "        text-align: right;\n",
       "    }\n",
       "</style>\n",
       "<table border=\"1\" class=\"dataframe\">\n",
       "  <thead>\n",
       "    <tr style=\"text-align: right;\">\n",
       "      <th></th>\n",
       "      <th>mean_fit_time</th>\n",
       "      <th>std_fit_time</th>\n",
       "      <th>mean_score_time</th>\n",
       "      <th>std_score_time</th>\n",
       "      <th>param_algoritmo__verbosity</th>\n",
       "      <th>param_algoritmo__reg_lambda</th>\n",
       "      <th>param_algoritmo__reg_alpha</th>\n",
       "      <th>param_algoritmo__n_jobs</th>\n",
       "      <th>param_algoritmo__n_estimators</th>\n",
       "      <th>param_algoritmo__max_depth</th>\n",
       "      <th>param_algoritmo__learning_rate</th>\n",
       "      <th>param_algoritmo</th>\n",
       "      <th>params</th>\n",
       "      <th>split0_test_score</th>\n",
       "      <th>split1_test_score</th>\n",
       "      <th>split2_test_score</th>\n",
       "      <th>mean_test_score</th>\n",
       "      <th>std_test_score</th>\n",
       "      <th>rank_test_score</th>\n",
       "    </tr>\n",
       "  </thead>\n",
       "  <tbody>\n",
       "    <tr>\n",
       "      <th>3</th>\n",
       "      <td>0.55</td>\n",
       "      <td>0.08</td>\n",
       "      <td>0.14</td>\n",
       "      <td>0.09</td>\n",
       "      <td>NaN</td>\n",
       "      <td>NaN</td>\n",
       "      <td>NaN</td>\n",
       "      <td>-1</td>\n",
       "      <td>100</td>\n",
       "      <td>10</td>\n",
       "      <td>NaN</td>\n",
       "      <td>RandomForestClassifier(max_depth=10, n_jobs=-1)</td>\n",
       "      <td>{'algoritmo__n_jobs': -1, 'algoritmo__n_estima...</td>\n",
       "      <td>0.77</td>\n",
       "      <td>0.75</td>\n",
       "      <td>0.76</td>\n",
       "      <td>0.76</td>\n",
       "      <td>0.01</td>\n",
       "      <td>1</td>\n",
       "    </tr>\n",
       "    <tr>\n",
       "      <th>0</th>\n",
       "      <td>5.24</td>\n",
       "      <td>0.10</td>\n",
       "      <td>0.08</td>\n",
       "      <td>0.01</td>\n",
       "      <td>0</td>\n",
       "      <td>0.10</td>\n",
       "      <td>1</td>\n",
       "      <td>-1</td>\n",
       "      <td>100</td>\n",
       "      <td>10</td>\n",
       "      <td>0.01</td>\n",
       "      <td>XGBClassifier(base_score=None, booster=None, c...</td>\n",
       "      <td>{'algoritmo__verbosity': 0, 'algoritmo__reg_la...</td>\n",
       "      <td>0.77</td>\n",
       "      <td>0.76</td>\n",
       "      <td>0.75</td>\n",
       "      <td>0.76</td>\n",
       "      <td>0.01</td>\n",
       "      <td>2</td>\n",
       "    </tr>\n",
       "    <tr>\n",
       "      <th>1</th>\n",
       "      <td>10.31</td>\n",
       "      <td>0.03</td>\n",
       "      <td>0.10</td>\n",
       "      <td>0.00</td>\n",
       "      <td>0</td>\n",
       "      <td>0.01</td>\n",
       "      <td>0.50</td>\n",
       "      <td>-1</td>\n",
       "      <td>500</td>\n",
       "      <td>5</td>\n",
       "      <td>0.10</td>\n",
       "      <td>XGBClassifier(base_score=None, booster=None, c...</td>\n",
       "      <td>{'algoritmo__verbosity': 0, 'algoritmo__reg_la...</td>\n",
       "      <td>0.75</td>\n",
       "      <td>0.75</td>\n",
       "      <td>0.74</td>\n",
       "      <td>0.75</td>\n",
       "      <td>0.00</td>\n",
       "      <td>3</td>\n",
       "    </tr>\n",
       "    <tr>\n",
       "      <th>4</th>\n",
       "      <td>2.09</td>\n",
       "      <td>0.19</td>\n",
       "      <td>0.03</td>\n",
       "      <td>0.00</td>\n",
       "      <td>0</td>\n",
       "      <td>0.01</td>\n",
       "      <td>0.10</td>\n",
       "      <td>-1</td>\n",
       "      <td>100</td>\n",
       "      <td>5</td>\n",
       "      <td>0.01</td>\n",
       "      <td>XGBClassifier(base_score=None, booster=None, c...</td>\n",
       "      <td>{'algoritmo__verbosity': 0, 'algoritmo__reg_la...</td>\n",
       "      <td>0.76</td>\n",
       "      <td>0.74</td>\n",
       "      <td>0.74</td>\n",
       "      <td>0.75</td>\n",
       "      <td>0.01</td>\n",
       "      <td>4</td>\n",
       "    </tr>\n",
       "    <tr>\n",
       "      <th>2</th>\n",
       "      <td>46.35</td>\n",
       "      <td>0.39</td>\n",
       "      <td>0.85</td>\n",
       "      <td>0.02</td>\n",
       "      <td>0</td>\n",
       "      <td>0.01</td>\n",
       "      <td>1</td>\n",
       "      <td>-1</td>\n",
       "      <td>1000</td>\n",
       "      <td>20</td>\n",
       "      <td>0.10</td>\n",
       "      <td>XGBClassifier(base_score=None, booster=None, c...</td>\n",
       "      <td>{'algoritmo__verbosity': 0, 'algoritmo__reg_la...</td>\n",
       "      <td>0.73</td>\n",
       "      <td>0.72</td>\n",
       "      <td>0.72</td>\n",
       "      <td>0.72</td>\n",
       "      <td>0.01</td>\n",
       "      <td>5</td>\n",
       "    </tr>\n",
       "  </tbody>\n",
       "</table>\n",
       "</div>"
      ],
      "text/plain": [
       "   mean_fit_time  std_fit_time  mean_score_time  std_score_time  \\\n",
       "3           0.55          0.08             0.14            0.09   \n",
       "0           5.24          0.10             0.08            0.01   \n",
       "1          10.31          0.03             0.10            0.00   \n",
       "4           2.09          0.19             0.03            0.00   \n",
       "2          46.35          0.39             0.85            0.02   \n",
       "\n",
       "  param_algoritmo__verbosity param_algoritmo__reg_lambda  \\\n",
       "3                        NaN                         NaN   \n",
       "0                          0                        0.10   \n",
       "1                          0                        0.01   \n",
       "4                          0                        0.01   \n",
       "2                          0                        0.01   \n",
       "\n",
       "  param_algoritmo__reg_alpha param_algoritmo__n_jobs  \\\n",
       "3                        NaN                      -1   \n",
       "0                          1                      -1   \n",
       "1                       0.50                      -1   \n",
       "4                       0.10                      -1   \n",
       "2                          1                      -1   \n",
       "\n",
       "  param_algoritmo__n_estimators param_algoritmo__max_depth  \\\n",
       "3                           100                         10   \n",
       "0                           100                         10   \n",
       "1                           500                          5   \n",
       "4                           100                          5   \n",
       "2                          1000                         20   \n",
       "\n",
       "  param_algoritmo__learning_rate  \\\n",
       "3                            NaN   \n",
       "0                           0.01   \n",
       "1                           0.10   \n",
       "4                           0.01   \n",
       "2                           0.10   \n",
       "\n",
       "                                     param_algoritmo  \\\n",
       "3    RandomForestClassifier(max_depth=10, n_jobs=-1)   \n",
       "0  XGBClassifier(base_score=None, booster=None, c...   \n",
       "1  XGBClassifier(base_score=None, booster=None, c...   \n",
       "4  XGBClassifier(base_score=None, booster=None, c...   \n",
       "2  XGBClassifier(base_score=None, booster=None, c...   \n",
       "\n",
       "                                              params  split0_test_score  \\\n",
       "3  {'algoritmo__n_jobs': -1, 'algoritmo__n_estima...               0.77   \n",
       "0  {'algoritmo__verbosity': 0, 'algoritmo__reg_la...               0.77   \n",
       "1  {'algoritmo__verbosity': 0, 'algoritmo__reg_la...               0.75   \n",
       "4  {'algoritmo__verbosity': 0, 'algoritmo__reg_la...               0.76   \n",
       "2  {'algoritmo__verbosity': 0, 'algoritmo__reg_la...               0.73   \n",
       "\n",
       "   split1_test_score  split2_test_score  mean_test_score  std_test_score  \\\n",
       "3               0.75               0.76             0.76            0.01   \n",
       "0               0.76               0.75             0.76            0.01   \n",
       "1               0.75               0.74             0.75            0.00   \n",
       "4               0.74               0.74             0.75            0.01   \n",
       "2               0.72               0.72             0.72            0.01   \n",
       "\n",
       "   rank_test_score  \n",
       "3                1  \n",
       "0                2  \n",
       "1                3  \n",
       "4                4  \n",
       "2                5  "
      ]
     },
     "execution_count": 37,
     "metadata": {},
     "output_type": "execute_result"
    }
   ],
   "source": [
    "random_search = RandomizedSearchCV(estimator = pipe,\n",
    "                                   param_distributions = grid, \n",
    "                                   n_iter = 5, \n",
    "                                   cv = 3, \n",
    "                                   scoring = 'roc_auc', \n",
    "                                   verbose = 0,\n",
    "                                   n_jobs = -1)\n",
    "\n",
    "modelo = random_search.fit(train_x,train_y)\n",
    "\n",
    "pd.DataFrame(random_search.cv_results_).sort_values(by = 'rank_test_score')"
   ]
  },
  {
   "attachments": {},
   "cell_type": "markdown",
   "metadata": {},
   "source": [
    "#### Predict probablities"
   ]
  },
  {
   "cell_type": "code",
   "execution_count": 38,
   "metadata": {},
   "outputs": [],
   "source": [
    "pred = modelo.best_estimator_.predict_proba(val_x)[:, 1]"
   ]
  },
  {
   "attachments": {},
   "cell_type": "markdown",
   "metadata": {},
   "source": [
    "#### Evaluate model"
   ]
  },
  {
   "cell_type": "code",
   "execution_count": 39,
   "metadata": {},
   "outputs": [
    {
     "data": {
      "text/plain": [
       "0.7511144012734199"
      ]
     },
     "execution_count": 39,
     "metadata": {},
     "output_type": "execute_result"
    }
   ],
   "source": [
    "roc_auc_score(val_y, pred)"
   ]
  },
  {
   "cell_type": "code",
   "execution_count": 60,
   "metadata": {},
   "outputs": [
    {
     "data": {
      "text/html": [
       "<style>#sk-container-id-12 {color: black;background-color: white;}#sk-container-id-12 pre{padding: 0;}#sk-container-id-12 div.sk-toggleable {background-color: white;}#sk-container-id-12 label.sk-toggleable__label {cursor: pointer;display: block;width: 100%;margin-bottom: 0;padding: 0.3em;box-sizing: border-box;text-align: center;}#sk-container-id-12 label.sk-toggleable__label-arrow:before {content: \"▸\";float: left;margin-right: 0.25em;color: #696969;}#sk-container-id-12 label.sk-toggleable__label-arrow:hover:before {color: black;}#sk-container-id-12 div.sk-estimator:hover label.sk-toggleable__label-arrow:before {color: black;}#sk-container-id-12 div.sk-toggleable__content {max-height: 0;max-width: 0;overflow: hidden;text-align: left;background-color: #f0f8ff;}#sk-container-id-12 div.sk-toggleable__content pre {margin: 0.2em;color: black;border-radius: 0.25em;background-color: #f0f8ff;}#sk-container-id-12 input.sk-toggleable__control:checked~div.sk-toggleable__content {max-height: 200px;max-width: 100%;overflow: auto;}#sk-container-id-12 input.sk-toggleable__control:checked~label.sk-toggleable__label-arrow:before {content: \"▾\";}#sk-container-id-12 div.sk-estimator input.sk-toggleable__control:checked~label.sk-toggleable__label {background-color: #d4ebff;}#sk-container-id-12 div.sk-label input.sk-toggleable__control:checked~label.sk-toggleable__label {background-color: #d4ebff;}#sk-container-id-12 input.sk-hidden--visually {border: 0;clip: rect(1px 1px 1px 1px);clip: rect(1px, 1px, 1px, 1px);height: 1px;margin: -1px;overflow: hidden;padding: 0;position: absolute;width: 1px;}#sk-container-id-12 div.sk-estimator {font-family: monospace;background-color: #f0f8ff;border: 1px dotted black;border-radius: 0.25em;box-sizing: border-box;margin-bottom: 0.5em;}#sk-container-id-12 div.sk-estimator:hover {background-color: #d4ebff;}#sk-container-id-12 div.sk-parallel-item::after {content: \"\";width: 100%;border-bottom: 1px solid gray;flex-grow: 1;}#sk-container-id-12 div.sk-label:hover label.sk-toggleable__label {background-color: #d4ebff;}#sk-container-id-12 div.sk-serial::before {content: \"\";position: absolute;border-left: 1px solid gray;box-sizing: border-box;top: 0;bottom: 0;left: 50%;z-index: 0;}#sk-container-id-12 div.sk-serial {display: flex;flex-direction: column;align-items: center;background-color: white;padding-right: 0.2em;padding-left: 0.2em;position: relative;}#sk-container-id-12 div.sk-item {position: relative;z-index: 1;}#sk-container-id-12 div.sk-parallel {display: flex;align-items: stretch;justify-content: center;background-color: white;position: relative;}#sk-container-id-12 div.sk-item::before, #sk-container-id-12 div.sk-parallel-item::before {content: \"\";position: absolute;border-left: 1px solid gray;box-sizing: border-box;top: 0;bottom: 0;left: 50%;z-index: -1;}#sk-container-id-12 div.sk-parallel-item {display: flex;flex-direction: column;z-index: 1;position: relative;background-color: white;}#sk-container-id-12 div.sk-parallel-item:first-child::after {align-self: flex-end;width: 50%;}#sk-container-id-12 div.sk-parallel-item:last-child::after {align-self: flex-start;width: 50%;}#sk-container-id-12 div.sk-parallel-item:only-child::after {width: 0;}#sk-container-id-12 div.sk-dashed-wrapped {border: 1px dashed gray;margin: 0 0.4em 0.5em 0.4em;box-sizing: border-box;padding-bottom: 0.4em;background-color: white;}#sk-container-id-12 div.sk-label label {font-family: monospace;font-weight: bold;display: inline-block;line-height: 1.2em;}#sk-container-id-12 div.sk-label-container {text-align: center;}#sk-container-id-12 div.sk-container {/* jupyter's `normalize.less` sets `[hidden] { display: none; }` but bootstrap.min.css set `[hidden] { display: none !important; }` so we also need the `!important` here to be able to override the default hidden behavior on the sphinx rendered scikit-learn.org. See: https://github.com/scikit-learn/scikit-learn/issues/21755 */display: inline-block !important;position: relative;}#sk-container-id-12 div.sk-text-repr-fallback {display: none;}</style><div id=\"sk-container-id-12\" class=\"sk-top-container\"><div class=\"sk-text-repr-fallback\"><pre>Pipeline(steps=[(&#x27;algoritmo&#x27;, RandomForestClassifier(max_depth=10, n_jobs=-1))])</pre><b>In a Jupyter environment, please rerun this cell to show the HTML representation or trust the notebook. <br />On GitHub, the HTML representation is unable to render, please try loading this page with nbviewer.org.</b></div><div class=\"sk-container\" hidden><div class=\"sk-item sk-dashed-wrapped\"><div class=\"sk-label-container\"><div class=\"sk-label sk-toggleable\"><input class=\"sk-toggleable__control sk-hidden--visually\" id=\"sk-estimator-id-15\" type=\"checkbox\" ><label for=\"sk-estimator-id-15\" class=\"sk-toggleable__label sk-toggleable__label-arrow\">Pipeline</label><div class=\"sk-toggleable__content\"><pre>Pipeline(steps=[(&#x27;algoritmo&#x27;, RandomForestClassifier(max_depth=10, n_jobs=-1))])</pre></div></div></div><div class=\"sk-serial\"><div class=\"sk-item\"><div class=\"sk-estimator sk-toggleable\"><input class=\"sk-toggleable__control sk-hidden--visually\" id=\"sk-estimator-id-16\" type=\"checkbox\" ><label for=\"sk-estimator-id-16\" class=\"sk-toggleable__label sk-toggleable__label-arrow\">RandomForestClassifier</label><div class=\"sk-toggleable__content\"><pre>RandomForestClassifier(max_depth=10, n_jobs=-1)</pre></div></div></div></div></div></div></div>"
      ],
      "text/plain": [
       "Pipeline(steps=[('algoritmo', RandomForestClassifier(max_depth=10, n_jobs=-1))])"
      ]
     },
     "execution_count": 60,
     "metadata": {},
     "output_type": "execute_result"
    }
   ],
   "source": [
    "modelo.best_estimator_"
   ]
  },
  {
   "attachments": {},
   "cell_type": "markdown",
   "metadata": {},
   "source": [
    "#### The feature importances are the following"
   ]
  },
  {
   "cell_type": "code",
   "execution_count": 65,
   "metadata": {},
   "outputs": [
    {
     "data": {
      "image/png": "[encoded data removed]",
      "text/plain": [
       "<Figure size 800x550 with 1 Axes>"
      ]
     },
     "metadata": {},
     "output_type": "display_data"
    }
   ],
   "source": [
    "temp = pd.Series(modelo.best_estimator_[0].feature_importances_, index=train_x.columns).sort_values(ascending=True)[-30:]\n",
    "colors = [\"gray\"]*(len(temp) - 3) + [\"b\"]*3\n",
    "\n",
    "temp.plot(kind=\"barh\", color=colors)\n",
    "\n",
    "plt.xticks(size=9, color=\"#555555\")\n",
    "plt.yticks(size=9, color=\"#555555\")\n",
    "plt.xticks(rotation=0)\n",
    "# plt.ylabel(\"Most important variables\", loc=\"left\",size=12, color=\"#555555\")\n",
    "plt.xlabel(\"Importance of variable (from 0 to 1)\", loc=\"left\",size=10, color=\"#555555\");\n",
    "\n",
    "plt.gca().spines['top'].set_visible(False)\n",
    "plt.gca().spines['right'].set_visible(False);\n",
    "\n",
    "plt.grid(False)\n",
    "plt.tight_layout();"
   ]
  }
 ],
 "metadata": {
  "kernelspec": {
   "display_name": "project_BA",
   "language": "python",
   "name": "python3"
  },
  "language_info": {
   "codemirror_mode": {
    "name": "ipython",
    "version": 3
   },
   "file_extension": ".py",
   "mimetype": "text/x-python",
   "name": "python",
   "nbconvert_exporter": "python",
   "pygments_lexer": "ipython3",
   "version": "3.11.3"
  },
  "orig_nbformat": 4
 },
 "nbformat": 4,
 "nbformat_minor": 2
}
