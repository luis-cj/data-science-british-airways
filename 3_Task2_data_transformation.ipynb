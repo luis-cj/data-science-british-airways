{
 "cells": [
  {
   "attachments": {},
   "cell_type": "markdown",
   "metadata": {},
   "source": [
    "# Task 2: Predicting customer buying behaviour\n",
    "## 3. Data transformation"
   ]
  },
  {
   "attachments": {},
   "cell_type": "markdown",
   "metadata": {},
   "source": [
    "## Import libraries"
   ]
  },
  {
   "cell_type": "code",
   "execution_count": 1,
   "metadata": {},
   "outputs": [],
   "source": [
    "import numpy as np\n",
    "import pandas as pd\n",
    "import matplotlib.pyplot as plt\n",
    "import seaborn as sns\n",
    "\n",
    "from sklearn.preprocessing import OneHotEncoder\n",
    "from sklearn.preprocessing import OrdinalEncoder\n",
    "from category_encoders import TargetEncoder\n",
    "\n",
    "from sklearn.preprocessing import QuantileTransformer\n",
    "\n",
    "from sklearn.preprocessing import MinMaxScaler"
   ]
  },
  {
   "attachments": {},
   "cell_type": "markdown",
   "metadata": {},
   "source": [
    "## Load the data"
   ]
  },
  {
   "cell_type": "code",
   "execution_count": 2,
   "metadata": {},
   "outputs": [],
   "source": [
    "cat = pd.read_pickle(\"cat_eda.pickle\")\n",
    "num = pd.read_pickle(\"num_eda.pickle\")"
   ]
  },
  {
   "attachments": {},
   "cell_type": "markdown",
   "metadata": {},
   "source": [
    "## Separate the target variable"
   ]
  },
  {
   "cell_type": "code",
   "execution_count": 3,
   "metadata": {},
   "outputs": [],
   "source": [
    "target = num[[\"booking_complete\"]].copy().reset_index(drop=True)"
   ]
  },
  {
   "attachments": {},
   "cell_type": "markdown",
   "metadata": {},
   "source": [
    "## CATEGORICAL VARIABLES TRANSFORMATION"
   ]
  },
  {
   "cell_type": "code",
   "execution_count": 4,
   "metadata": {},
   "outputs": [
    {
     "data": {
      "text/html": [
       "<div>\n",
       "<style scoped>\n",
       "    .dataframe tbody tr th:only-of-type {\n",
       "        vertical-align: middle;\n",
       "    }\n",
       "\n",
       "    .dataframe tbody tr th {\n",
       "        vertical-align: top;\n",
       "    }\n",
       "\n",
       "    .dataframe thead th {\n",
       "        text-align: right;\n",
       "    }\n",
       "</style>\n",
       "<table border=\"1\" class=\"dataframe\">\n",
       "  <thead>\n",
       "    <tr style=\"text-align: right;\">\n",
       "      <th></th>\n",
       "      <th>sales_channel</th>\n",
       "      <th>trip_type</th>\n",
       "      <th>flight_day</th>\n",
       "      <th>route</th>\n",
       "      <th>booking_origin</th>\n",
       "    </tr>\n",
       "  </thead>\n",
       "  <tbody>\n",
       "    <tr>\n",
       "      <th>0</th>\n",
       "      <td>Internet</td>\n",
       "      <td>RoundTrip</td>\n",
       "      <td>Sat</td>\n",
       "      <td>OTHERS</td>\n",
       "      <td>New Zealand</td>\n",
       "    </tr>\n",
       "    <tr>\n",
       "      <th>1</th>\n",
       "      <td>Internet</td>\n",
       "      <td>RoundTrip</td>\n",
       "      <td>Sat</td>\n",
       "      <td>OTHERS</td>\n",
       "      <td>New Zealand</td>\n",
       "    </tr>\n",
       "    <tr>\n",
       "      <th>2</th>\n",
       "      <td>Internet</td>\n",
       "      <td>RoundTrip</td>\n",
       "      <td>Wed</td>\n",
       "      <td>OTHERS</td>\n",
       "      <td>India</td>\n",
       "    </tr>\n",
       "    <tr>\n",
       "      <th>3</th>\n",
       "      <td>Internet</td>\n",
       "      <td>RoundTrip</td>\n",
       "      <td>Sat</td>\n",
       "      <td>OTHERS</td>\n",
       "      <td>New Zealand</td>\n",
       "    </tr>\n",
       "    <tr>\n",
       "      <th>4</th>\n",
       "      <td>Internet</td>\n",
       "      <td>RoundTrip</td>\n",
       "      <td>Wed</td>\n",
       "      <td>OTHERS</td>\n",
       "      <td>India</td>\n",
       "    </tr>\n",
       "  </tbody>\n",
       "</table>\n",
       "</div>"
      ],
      "text/plain": [
       "  sales_channel  trip_type flight_day   route booking_origin\n",
       "0      Internet  RoundTrip        Sat  OTHERS    New Zealand\n",
       "1      Internet  RoundTrip        Sat  OTHERS    New Zealand\n",
       "2      Internet  RoundTrip        Wed  OTHERS          India\n",
       "3      Internet  RoundTrip        Sat  OTHERS    New Zealand\n",
       "4      Internet  RoundTrip        Wed  OTHERS          India"
      ]
     },
     "execution_count": 4,
     "metadata": {},
     "output_type": "execute_result"
    }
   ],
   "source": [
    "cat.head()"
   ]
  },
  {
   "attachments": {},
   "cell_type": "markdown",
   "metadata": {},
   "source": [
    "### One Hot Encoding"
   ]
  },
  {
   "attachments": {},
   "cell_type": "markdown",
   "metadata": {},
   "source": [
    "#### Variables to apply OHE"
   ]
  },
  {
   "cell_type": "code",
   "execution_count": 5,
   "metadata": {},
   "outputs": [],
   "source": [
    "var_ohe = [\"sales_channel\",\"trip_type\"]"
   ]
  },
  {
   "attachments": {},
   "cell_type": "markdown",
   "metadata": {},
   "source": [
    "#### Instantiate"
   ]
  },
  {
   "cell_type": "code",
   "execution_count": 6,
   "metadata": {},
   "outputs": [],
   "source": [
    "ohe = OneHotEncoder(sparse_output = False, handle_unknown='ignore')"
   ]
  },
  {
   "attachments": {},
   "cell_type": "markdown",
   "metadata": {},
   "source": [
    "#### Train and apply"
   ]
  },
  {
   "cell_type": "code",
   "execution_count": 7,
   "metadata": {},
   "outputs": [],
   "source": [
    "cat_ohe = ohe.fit_transform(cat[var_ohe])"
   ]
  },
  {
   "attachments": {},
   "cell_type": "markdown",
   "metadata": {},
   "source": [
    "#### Save as dataframe"
   ]
  },
  {
   "cell_type": "code",
   "execution_count": 8,
   "metadata": {},
   "outputs": [
    {
     "data": {
      "text/html": [
       "<div>\n",
       "<style scoped>\n",
       "    .dataframe tbody tr th:only-of-type {\n",
       "        vertical-align: middle;\n",
       "    }\n",
       "\n",
       "    .dataframe tbody tr th {\n",
       "        vertical-align: top;\n",
       "    }\n",
       "\n",
       "    .dataframe thead th {\n",
       "        text-align: right;\n",
       "    }\n",
       "</style>\n",
       "<table border=\"1\" class=\"dataframe\">\n",
       "  <thead>\n",
       "    <tr style=\"text-align: right;\">\n",
       "      <th></th>\n",
       "      <th>sales_channel_Internet</th>\n",
       "      <th>sales_channel_Mobile</th>\n",
       "      <th>trip_type_CircleTrip</th>\n",
       "      <th>trip_type_OneWay</th>\n",
       "      <th>trip_type_RoundTrip</th>\n",
       "    </tr>\n",
       "  </thead>\n",
       "  <tbody>\n",
       "    <tr>\n",
       "      <th>0</th>\n",
       "      <td>1.0</td>\n",
       "      <td>0.0</td>\n",
       "      <td>0.0</td>\n",
       "      <td>0.0</td>\n",
       "      <td>1.0</td>\n",
       "    </tr>\n",
       "    <tr>\n",
       "      <th>1</th>\n",
       "      <td>1.0</td>\n",
       "      <td>0.0</td>\n",
       "      <td>0.0</td>\n",
       "      <td>0.0</td>\n",
       "      <td>1.0</td>\n",
       "    </tr>\n",
       "    <tr>\n",
       "      <th>2</th>\n",
       "      <td>1.0</td>\n",
       "      <td>0.0</td>\n",
       "      <td>0.0</td>\n",
       "      <td>0.0</td>\n",
       "      <td>1.0</td>\n",
       "    </tr>\n",
       "    <tr>\n",
       "      <th>3</th>\n",
       "      <td>1.0</td>\n",
       "      <td>0.0</td>\n",
       "      <td>0.0</td>\n",
       "      <td>0.0</td>\n",
       "      <td>1.0</td>\n",
       "    </tr>\n",
       "    <tr>\n",
       "      <th>4</th>\n",
       "      <td>1.0</td>\n",
       "      <td>0.0</td>\n",
       "      <td>0.0</td>\n",
       "      <td>0.0</td>\n",
       "      <td>1.0</td>\n",
       "    </tr>\n",
       "  </tbody>\n",
       "</table>\n",
       "</div>"
      ],
      "text/plain": [
       "   sales_channel_Internet  sales_channel_Mobile  trip_type_CircleTrip  \\\n",
       "0                     1.0                   0.0                   0.0   \n",
       "1                     1.0                   0.0                   0.0   \n",
       "2                     1.0                   0.0                   0.0   \n",
       "3                     1.0                   0.0                   0.0   \n",
       "4                     1.0                   0.0                   0.0   \n",
       "\n",
       "   trip_type_OneWay  trip_type_RoundTrip  \n",
       "0               0.0                  1.0  \n",
       "1               0.0                  1.0  \n",
       "2               0.0                  1.0  \n",
       "3               0.0                  1.0  \n",
       "4               0.0                  1.0  "
      ]
     },
     "execution_count": 8,
     "metadata": {},
     "output_type": "execute_result"
    }
   ],
   "source": [
    "cat_ohe = pd.DataFrame(cat_ohe, columns = ohe.get_feature_names_out())\n",
    "cat_ohe.head()"
   ]
  },
  {
   "attachments": {},
   "cell_type": "markdown",
   "metadata": {},
   "source": [
    "### Ordinal Encoding"
   ]
  },
  {
   "attachments": {},
   "cell_type": "markdown",
   "metadata": {},
   "source": [
    "#### Variables to apply OE"
   ]
  },
  {
   "cell_type": "code",
   "execution_count": 9,
   "metadata": {},
   "outputs": [],
   "source": [
    "var_oe = [\"flight_day\"]"
   ]
  },
  {
   "attachments": {},
   "cell_type": "markdown",
   "metadata": {},
   "source": [
    "#### Order of those variables"
   ]
  },
  {
   "cell_type": "code",
   "execution_count": 10,
   "metadata": {},
   "outputs": [],
   "source": [
    "order_flight_day = [\"Mon\",\"Tue\",\"Wed\",\"Thu\",\"Fri\",\"Sat\",\"Sun\"]"
   ]
  },
  {
   "attachments": {},
   "cell_type": "markdown",
   "metadata": {},
   "source": [
    "#### Instantiate"
   ]
  },
  {
   "cell_type": "code",
   "execution_count": 11,
   "metadata": {},
   "outputs": [],
   "source": [
    "oe = OrdinalEncoder(categories = [order_flight_day],\n",
    "                    handle_unknown = 'use_encoded_value',\n",
    "                    unknown_value = 10)"
   ]
  },
  {
   "attachments": {},
   "cell_type": "markdown",
   "metadata": {},
   "source": [
    "#### Fit and transform"
   ]
  },
  {
   "cell_type": "code",
   "execution_count": 12,
   "metadata": {},
   "outputs": [],
   "source": [
    "cat_oe = oe.fit_transform(cat[var_oe]) + 1"
   ]
  },
  {
   "attachments": {},
   "cell_type": "markdown",
   "metadata": {},
   "source": [
    "#### Save as a dataframe"
   ]
  },
  {
   "cell_type": "code",
   "execution_count": 13,
   "metadata": {},
   "outputs": [
    {
     "data": {
      "text/html": [
       "<div>\n",
       "<style scoped>\n",
       "    .dataframe tbody tr th:only-of-type {\n",
       "        vertical-align: middle;\n",
       "    }\n",
       "\n",
       "    .dataframe tbody tr th {\n",
       "        vertical-align: top;\n",
       "    }\n",
       "\n",
       "    .dataframe thead th {\n",
       "        text-align: right;\n",
       "    }\n",
       "</style>\n",
       "<table border=\"1\" class=\"dataframe\">\n",
       "  <thead>\n",
       "    <tr style=\"text-align: right;\">\n",
       "      <th></th>\n",
       "      <th>flight_day_oe</th>\n",
       "    </tr>\n",
       "  </thead>\n",
       "  <tbody>\n",
       "    <tr>\n",
       "      <th>0</th>\n",
       "      <td>6.0</td>\n",
       "    </tr>\n",
       "    <tr>\n",
       "      <th>1</th>\n",
       "      <td>6.0</td>\n",
       "    </tr>\n",
       "    <tr>\n",
       "      <th>2</th>\n",
       "      <td>3.0</td>\n",
       "    </tr>\n",
       "    <tr>\n",
       "      <th>3</th>\n",
       "      <td>6.0</td>\n",
       "    </tr>\n",
       "    <tr>\n",
       "      <th>4</th>\n",
       "      <td>3.0</td>\n",
       "    </tr>\n",
       "  </tbody>\n",
       "</table>\n",
       "</div>"
      ],
      "text/plain": [
       "   flight_day_oe\n",
       "0            6.0\n",
       "1            6.0\n",
       "2            3.0\n",
       "3            6.0\n",
       "4            3.0"
      ]
     },
     "execution_count": 13,
     "metadata": {},
     "output_type": "execute_result"
    }
   ],
   "source": [
    "#Add suffixes to variables' names\n",
    "names_oe = [variable + '_oe' for variable in var_oe]\n",
    "\n",
    "#Save as a dataframe\n",
    "cat_oe = pd.DataFrame(cat_oe, columns = names_oe)\n",
    "cat_oe.head()"
   ]
  },
  {
   "attachments": {},
   "cell_type": "markdown",
   "metadata": {},
   "source": [
    "### Target Encoding"
   ]
  },
  {
   "attachments": {},
   "cell_type": "markdown",
   "metadata": {},
   "source": [
    "#### Variables to apply TE"
   ]
  },
  {
   "cell_type": "code",
   "execution_count": 14,
   "metadata": {},
   "outputs": [],
   "source": [
    "var_te = [\"route\",\"booking_origin\"]"
   ]
  },
  {
   "attachments": {},
   "cell_type": "markdown",
   "metadata": {},
   "source": [
    "#### Instantiate"
   ]
  },
  {
   "cell_type": "code",
   "execution_count": 15,
   "metadata": {},
   "outputs": [],
   "source": [
    "te = TargetEncoder(min_samples_leaf=100, return_df = False)"
   ]
  },
  {
   "attachments": {},
   "cell_type": "markdown",
   "metadata": {},
   "source": [
    "#### Fit and transform"
   ]
  },
  {
   "cell_type": "code",
   "execution_count": 16,
   "metadata": {},
   "outputs": [],
   "source": [
    "cat_te = te.fit_transform(cat[var_te].reset_index(drop=True), y = target)"
   ]
  },
  {
   "attachments": {},
   "cell_type": "markdown",
   "metadata": {},
   "source": [
    "#### Save as a dataframe"
   ]
  },
  {
   "cell_type": "code",
   "execution_count": 17,
   "metadata": {},
   "outputs": [
    {
     "data": {
      "text/html": [
       "<div>\n",
       "<style scoped>\n",
       "    .dataframe tbody tr th:only-of-type {\n",
       "        vertical-align: middle;\n",
       "    }\n",
       "\n",
       "    .dataframe tbody tr th {\n",
       "        vertical-align: top;\n",
       "    }\n",
       "\n",
       "    .dataframe thead th {\n",
       "        text-align: right;\n",
       "    }\n",
       "</style>\n",
       "<table border=\"1\" class=\"dataframe\">\n",
       "  <thead>\n",
       "    <tr style=\"text-align: right;\">\n",
       "      <th></th>\n",
       "      <th>route_te</th>\n",
       "      <th>booking_origin_te</th>\n",
       "    </tr>\n",
       "  </thead>\n",
       "  <tbody>\n",
       "    <tr>\n",
       "      <th>0</th>\n",
       "      <td>0.149552</td>\n",
       "      <td>0.050000</td>\n",
       "    </tr>\n",
       "    <tr>\n",
       "      <th>1</th>\n",
       "      <td>0.149552</td>\n",
       "      <td>0.050000</td>\n",
       "    </tr>\n",
       "    <tr>\n",
       "      <th>2</th>\n",
       "      <td>0.149552</td>\n",
       "      <td>0.101749</td>\n",
       "    </tr>\n",
       "    <tr>\n",
       "      <th>3</th>\n",
       "      <td>0.149552</td>\n",
       "      <td>0.050000</td>\n",
       "    </tr>\n",
       "    <tr>\n",
       "      <th>4</th>\n",
       "      <td>0.149552</td>\n",
       "      <td>0.101749</td>\n",
       "    </tr>\n",
       "  </tbody>\n",
       "</table>\n",
       "</div>"
      ],
      "text/plain": [
       "   route_te  booking_origin_te\n",
       "0  0.149552           0.050000\n",
       "1  0.149552           0.050000\n",
       "2  0.149552           0.101749\n",
       "3  0.149552           0.050000\n",
       "4  0.149552           0.101749"
      ]
     },
     "execution_count": 17,
     "metadata": {},
     "output_type": "execute_result"
    }
   ],
   "source": [
    "#Add suffixes to variables' names\n",
    "names_te = [variable + '_te' for variable in var_te]\n",
    "\n",
    "#Save as a dataframe\n",
    "cat_te = pd.DataFrame(cat_te, columns = names_te)\n",
    "cat_te.head()"
   ]
  },
  {
   "attachments": {},
   "cell_type": "markdown",
   "metadata": {},
   "source": [
    "## NUMERICAL VARIABLES TRANSFORMATION"
   ]
  },
  {
   "attachments": {},
   "cell_type": "markdown",
   "metadata": {},
   "source": [
    "### Normalization (Gauss)"
   ]
  },
  {
   "cell_type": "code",
   "execution_count": 18,
   "metadata": {},
   "outputs": [],
   "source": [
    "var_qt = [\"num_passengers\",\"purchase_lead\",\"length_of_stay\",\"flight_hour\",\"flight_duration\"]"
   ]
  },
  {
   "attachments": {},
   "cell_type": "markdown",
   "metadata": {},
   "source": [
    "##### Instantiate"
   ]
  },
  {
   "cell_type": "code",
   "execution_count": 19,
   "metadata": {},
   "outputs": [],
   "source": [
    "qt = QuantileTransformer(output_distribution='normal')"
   ]
  },
  {
   "attachments": {},
   "cell_type": "markdown",
   "metadata": {},
   "source": [
    "##### Fit and transform"
   ]
  },
  {
   "cell_type": "code",
   "execution_count": 20,
   "metadata": {},
   "outputs": [],
   "source": [
    "num_qt = qt.fit_transform(num[var_qt])"
   ]
  },
  {
   "attachments": {},
   "cell_type": "markdown",
   "metadata": {},
   "source": [
    "##### Save as a dataframe"
   ]
  },
  {
   "cell_type": "code",
   "execution_count": 21,
   "metadata": {},
   "outputs": [],
   "source": [
    "#Add suffixes to variables' names\n",
    "names_qt = [variable + '_qt' for variable in var_qt]\n",
    "\n",
    "#Save as a dataframe\n",
    "num_qt = pd.DataFrame(num_qt,columns = names_qt)"
   ]
  },
  {
   "attachments": {},
   "cell_type": "markdown",
   "metadata": {},
   "source": [
    "## COMBINE ALL DATASETS"
   ]
  },
  {
   "attachments": {},
   "cell_type": "markdown",
   "metadata": {},
   "source": [
    "First let's add the non-transformed data"
   ]
  },
  {
   "cell_type": "code",
   "execution_count": 22,
   "metadata": {},
   "outputs": [
    {
     "data": {
      "text/plain": [
       "['wants_extra_baggage', 'wants_preferred_seat', 'wants_in_flight_meals']"
      ]
     },
     "execution_count": 22,
     "metadata": {},
     "output_type": "execute_result"
    }
   ],
   "source": [
    "variables = cat.columns.to_list() + num.iloc[:,:-1].columns.to_list()\n",
    "var_trans = var_oe + var_ohe + var_te + var_qt\n",
    "var_nt = [name for name in variables if name not in var_trans]\n",
    "var_nt"
   ]
  },
  {
   "cell_type": "code",
   "execution_count": 23,
   "metadata": {},
   "outputs": [],
   "source": [
    "num_nt = num[var_nt].reset_index().iloc[:,1:]"
   ]
  },
  {
   "cell_type": "code",
   "execution_count": 24,
   "metadata": {},
   "outputs": [],
   "source": [
    "dataframes = []\n",
    "dataframes.extend(value for name, value in locals().items() if name.startswith('cat_') or name.startswith('num_'))"
   ]
  },
  {
   "attachments": {},
   "cell_type": "markdown",
   "metadata": {},
   "source": [
    "### Concatenate all the datasets"
   ]
  },
  {
   "cell_type": "code",
   "execution_count": 25,
   "metadata": {},
   "outputs": [
    {
     "data": {
      "text/html": [
       "<div>\n",
       "<style scoped>\n",
       "    .dataframe tbody tr th:only-of-type {\n",
       "        vertical-align: middle;\n",
       "    }\n",
       "\n",
       "    .dataframe tbody tr th {\n",
       "        vertical-align: top;\n",
       "    }\n",
       "\n",
       "    .dataframe thead th {\n",
       "        text-align: right;\n",
       "    }\n",
       "</style>\n",
       "<table border=\"1\" class=\"dataframe\">\n",
       "  <thead>\n",
       "    <tr style=\"text-align: right;\">\n",
       "      <th></th>\n",
       "      <th>sales_channel_Internet</th>\n",
       "      <th>sales_channel_Mobile</th>\n",
       "      <th>trip_type_CircleTrip</th>\n",
       "      <th>trip_type_OneWay</th>\n",
       "      <th>trip_type_RoundTrip</th>\n",
       "      <th>flight_day_oe</th>\n",
       "      <th>route_te</th>\n",
       "      <th>booking_origin_te</th>\n",
       "      <th>num_passengers_qt</th>\n",
       "      <th>purchase_lead_qt</th>\n",
       "      <th>length_of_stay_qt</th>\n",
       "      <th>flight_hour_qt</th>\n",
       "      <th>flight_duration_qt</th>\n",
       "      <th>wants_extra_baggage</th>\n",
       "      <th>wants_preferred_seat</th>\n",
       "      <th>wants_in_flight_meals</th>\n",
       "    </tr>\n",
       "  </thead>\n",
       "  <tbody>\n",
       "    <tr>\n",
       "      <th>0</th>\n",
       "      <td>1.0</td>\n",
       "      <td>0.0</td>\n",
       "      <td>0.0</td>\n",
       "      <td>0.0</td>\n",
       "      <td>1.0</td>\n",
       "      <td>6.0</td>\n",
       "      <td>0.149552</td>\n",
       "      <td>0.050000</td>\n",
       "      <td>0.703922</td>\n",
       "      <td>1.517545</td>\n",
       "      <td>0.157469</td>\n",
       "      <td>-0.288750</td>\n",
       "      <td>-1.037937</td>\n",
       "      <td>1</td>\n",
       "      <td>0</td>\n",
       "      <td>0</td>\n",
       "    </tr>\n",
       "    <tr>\n",
       "      <th>1</th>\n",
       "      <td>1.0</td>\n",
       "      <td>0.0</td>\n",
       "      <td>0.0</td>\n",
       "      <td>0.0</td>\n",
       "      <td>1.0</td>\n",
       "      <td>6.0</td>\n",
       "      <td>0.149552</td>\n",
       "      <td>0.050000</td>\n",
       "      <td>-5.199338</td>\n",
       "      <td>0.645631</td>\n",
       "      <td>0.218773</td>\n",
       "      <td>-1.018778</td>\n",
       "      <td>-1.037937</td>\n",
       "      <td>0</td>\n",
       "      <td>0</td>\n",
       "      <td>0</td>\n",
       "    </tr>\n",
       "    <tr>\n",
       "      <th>2</th>\n",
       "      <td>1.0</td>\n",
       "      <td>0.0</td>\n",
       "      <td>0.0</td>\n",
       "      <td>0.0</td>\n",
       "      <td>1.0</td>\n",
       "      <td>3.0</td>\n",
       "      <td>0.149552</td>\n",
       "      <td>0.101749</td>\n",
       "      <td>0.703922</td>\n",
       "      <td>1.397837</td>\n",
       "      <td>0.366873</td>\n",
       "      <td>1.475269</td>\n",
       "      <td>-1.037937</td>\n",
       "      <td>1</td>\n",
       "      <td>1</td>\n",
       "      <td>0</td>\n",
       "    </tr>\n",
       "    <tr>\n",
       "      <th>3</th>\n",
       "      <td>1.0</td>\n",
       "      <td>0.0</td>\n",
       "      <td>0.0</td>\n",
       "      <td>0.0</td>\n",
       "      <td>1.0</td>\n",
       "      <td>6.0</td>\n",
       "      <td>0.149552</td>\n",
       "      <td>0.050000</td>\n",
       "      <td>-5.199338</td>\n",
       "      <td>0.514923</td>\n",
       "      <td>0.814401</td>\n",
       "      <td>-0.809168</td>\n",
       "      <td>-1.037937</td>\n",
       "      <td>0</td>\n",
       "      <td>0</td>\n",
       "      <td>1</td>\n",
       "    </tr>\n",
       "    <tr>\n",
       "      <th>4</th>\n",
       "      <td>1.0</td>\n",
       "      <td>0.0</td>\n",
       "      <td>0.0</td>\n",
       "      <td>0.0</td>\n",
       "      <td>1.0</td>\n",
       "      <td>3.0</td>\n",
       "      <td>0.149552</td>\n",
       "      <td>0.101749</td>\n",
       "      <td>0.703922</td>\n",
       "      <td>0.218773</td>\n",
       "      <td>0.366873</td>\n",
       "      <td>1.111702</td>\n",
       "      <td>-1.037937</td>\n",
       "      <td>1</td>\n",
       "      <td>0</td>\n",
       "      <td>1</td>\n",
       "    </tr>\n",
       "    <tr>\n",
       "      <th>...</th>\n",
       "      <td>...</td>\n",
       "      <td>...</td>\n",
       "      <td>...</td>\n",
       "      <td>...</td>\n",
       "      <td>...</td>\n",
       "      <td>...</td>\n",
       "      <td>...</td>\n",
       "      <td>...</td>\n",
       "      <td>...</td>\n",
       "      <td>...</td>\n",
       "      <td>...</td>\n",
       "      <td>...</td>\n",
       "      <td>...</td>\n",
       "      <td>...</td>\n",
       "      <td>...</td>\n",
       "      <td>...</td>\n",
       "    </tr>\n",
       "    <tr>\n",
       "      <th>49276</th>\n",
       "      <td>1.0</td>\n",
       "      <td>0.0</td>\n",
       "      <td>0.0</td>\n",
       "      <td>0.0</td>\n",
       "      <td>1.0</td>\n",
       "      <td>6.0</td>\n",
       "      <td>0.149552</td>\n",
       "      <td>0.050591</td>\n",
       "      <td>0.703922</td>\n",
       "      <td>-0.502074</td>\n",
       "      <td>-0.213636</td>\n",
       "      <td>0.022584</td>\n",
       "      <td>-0.793602</td>\n",
       "      <td>1</td>\n",
       "      <td>0</td>\n",
       "      <td>1</td>\n",
       "    </tr>\n",
       "    <tr>\n",
       "      <th>49277</th>\n",
       "      <td>1.0</td>\n",
       "      <td>0.0</td>\n",
       "      <td>0.0</td>\n",
       "      <td>0.0</td>\n",
       "      <td>1.0</td>\n",
       "      <td>7.0</td>\n",
       "      <td>0.149552</td>\n",
       "      <td>0.050591</td>\n",
       "      <td>-5.199338</td>\n",
       "      <td>0.636387</td>\n",
       "      <td>-0.213636</td>\n",
       "      <td>-0.809168</td>\n",
       "      <td>-0.793602</td>\n",
       "      <td>0</td>\n",
       "      <td>0</td>\n",
       "      <td>0</td>\n",
       "    </tr>\n",
       "    <tr>\n",
       "      <th>49278</th>\n",
       "      <td>1.0</td>\n",
       "      <td>0.0</td>\n",
       "      <td>0.0</td>\n",
       "      <td>0.0</td>\n",
       "      <td>1.0</td>\n",
       "      <td>6.0</td>\n",
       "      <td>0.149552</td>\n",
       "      <td>0.050591</td>\n",
       "      <td>-5.199338</td>\n",
       "      <td>-0.590949</td>\n",
       "      <td>-0.213636</td>\n",
       "      <td>1.934489</td>\n",
       "      <td>-0.793602</td>\n",
       "      <td>0</td>\n",
       "      <td>0</td>\n",
       "      <td>1</td>\n",
       "    </tr>\n",
       "    <tr>\n",
       "      <th>49279</th>\n",
       "      <td>1.0</td>\n",
       "      <td>0.0</td>\n",
       "      <td>0.0</td>\n",
       "      <td>0.0</td>\n",
       "      <td>1.0</td>\n",
       "      <td>1.0</td>\n",
       "      <td>0.149552</td>\n",
       "      <td>0.050591</td>\n",
       "      <td>-5.199338</td>\n",
       "      <td>-0.922330</td>\n",
       "      <td>-0.213636</td>\n",
       "      <td>0.330873</td>\n",
       "      <td>-0.793602</td>\n",
       "      <td>1</td>\n",
       "      <td>0</td>\n",
       "      <td>1</td>\n",
       "    </tr>\n",
       "    <tr>\n",
       "      <th>49280</th>\n",
       "      <td>1.0</td>\n",
       "      <td>0.0</td>\n",
       "      <td>0.0</td>\n",
       "      <td>0.0</td>\n",
       "      <td>1.0</td>\n",
       "      <td>4.0</td>\n",
       "      <td>0.149552</td>\n",
       "      <td>0.050591</td>\n",
       "      <td>-5.199338</td>\n",
       "      <td>-0.764710</td>\n",
       "      <td>-0.213636</td>\n",
       "      <td>0.175278</td>\n",
       "      <td>-0.793602</td>\n",
       "      <td>0</td>\n",
       "      <td>1</td>\n",
       "      <td>0</td>\n",
       "    </tr>\n",
       "  </tbody>\n",
       "</table>\n",
       "<p>49281 rows × 16 columns</p>\n",
       "</div>"
      ],
      "text/plain": [
       "       sales_channel_Internet  sales_channel_Mobile  trip_type_CircleTrip  \\\n",
       "0                         1.0                   0.0                   0.0   \n",
       "1                         1.0                   0.0                   0.0   \n",
       "2                         1.0                   0.0                   0.0   \n",
       "3                         1.0                   0.0                   0.0   \n",
       "4                         1.0                   0.0                   0.0   \n",
       "...                       ...                   ...                   ...   \n",
       "49276                     1.0                   0.0                   0.0   \n",
       "49277                     1.0                   0.0                   0.0   \n",
       "49278                     1.0                   0.0                   0.0   \n",
       "49279                     1.0                   0.0                   0.0   \n",
       "49280                     1.0                   0.0                   0.0   \n",
       "\n",
       "       trip_type_OneWay  trip_type_RoundTrip  flight_day_oe  route_te  \\\n",
       "0                   0.0                  1.0            6.0  0.149552   \n",
       "1                   0.0                  1.0            6.0  0.149552   \n",
       "2                   0.0                  1.0            3.0  0.149552   \n",
       "3                   0.0                  1.0            6.0  0.149552   \n",
       "4                   0.0                  1.0            3.0  0.149552   \n",
       "...                 ...                  ...            ...       ...   \n",
       "49276               0.0                  1.0            6.0  0.149552   \n",
       "49277               0.0                  1.0            7.0  0.149552   \n",
       "49278               0.0                  1.0            6.0  0.149552   \n",
       "49279               0.0                  1.0            1.0  0.149552   \n",
       "49280               0.0                  1.0            4.0  0.149552   \n",
       "\n",
       "       booking_origin_te  num_passengers_qt  purchase_lead_qt  \\\n",
       "0               0.050000           0.703922          1.517545   \n",
       "1               0.050000          -5.199338          0.645631   \n",
       "2               0.101749           0.703922          1.397837   \n",
       "3               0.050000          -5.199338          0.514923   \n",
       "4               0.101749           0.703922          0.218773   \n",
       "...                  ...                ...               ...   \n",
       "49276           0.050591           0.703922         -0.502074   \n",
       "49277           0.050591          -5.199338          0.636387   \n",
       "49278           0.050591          -5.199338         -0.590949   \n",
       "49279           0.050591          -5.199338         -0.922330   \n",
       "49280           0.050591          -5.199338         -0.764710   \n",
       "\n",
       "       length_of_stay_qt  flight_hour_qt  flight_duration_qt  \\\n",
       "0               0.157469       -0.288750           -1.037937   \n",
       "1               0.218773       -1.018778           -1.037937   \n",
       "2               0.366873        1.475269           -1.037937   \n",
       "3               0.814401       -0.809168           -1.037937   \n",
       "4               0.366873        1.111702           -1.037937   \n",
       "...                  ...             ...                 ...   \n",
       "49276          -0.213636        0.022584           -0.793602   \n",
       "49277          -0.213636       -0.809168           -0.793602   \n",
       "49278          -0.213636        1.934489           -0.793602   \n",
       "49279          -0.213636        0.330873           -0.793602   \n",
       "49280          -0.213636        0.175278           -0.793602   \n",
       "\n",
       "       wants_extra_baggage  wants_preferred_seat  wants_in_flight_meals  \n",
       "0                        1                     0                      0  \n",
       "1                        0                     0                      0  \n",
       "2                        1                     1                      0  \n",
       "3                        0                     0                      1  \n",
       "4                        1                     0                      1  \n",
       "...                    ...                   ...                    ...  \n",
       "49276                    1                     0                      1  \n",
       "49277                    0                     0                      0  \n",
       "49278                    0                     0                      1  \n",
       "49279                    1                     0                      1  \n",
       "49280                    0                     1                      0  \n",
       "\n",
       "[49281 rows x 16 columns]"
      ]
     },
     "execution_count": 25,
     "metadata": {},
     "output_type": "execute_result"
    }
   ],
   "source": [
    "df = pd.concat(dataframes, axis = 1)\n",
    "df"
   ]
  },
  {
   "attachments": {},
   "cell_type": "markdown",
   "metadata": {},
   "source": [
    "## FEATURE SCALING"
   ]
  },
  {
   "attachments": {},
   "cell_type": "markdown",
   "metadata": {},
   "source": [
    "### Min-Max scaling (Normalization between 0 and 1)"
   ]
  },
  {
   "cell_type": "code",
   "execution_count": 26,
   "metadata": {},
   "outputs": [
    {
     "name": "stdout",
     "output_type": "stream",
     "text": [
      "<class 'pandas.core.frame.DataFrame'>\n",
      "RangeIndex: 49281 entries, 0 to 49280\n",
      "Data columns (total 16 columns):\n",
      " #   Column                  Non-Null Count  Dtype  \n",
      "---  ------                  --------------  -----  \n",
      " 0   sales_channel_Internet  49281 non-null  float64\n",
      " 1   sales_channel_Mobile    49281 non-null  float64\n",
      " 2   trip_type_CircleTrip    49281 non-null  float64\n",
      " 3   trip_type_OneWay        49281 non-null  float64\n",
      " 4   trip_type_RoundTrip     49281 non-null  float64\n",
      " 5   flight_day_oe           49281 non-null  float64\n",
      " 6   route_te                49281 non-null  float64\n",
      " 7   booking_origin_te       49281 non-null  float64\n",
      " 8   num_passengers_qt       49281 non-null  float64\n",
      " 9   purchase_lead_qt        49281 non-null  float64\n",
      " 10  length_of_stay_qt       49281 non-null  float64\n",
      " 11  flight_hour_qt          49281 non-null  float64\n",
      " 12  flight_duration_qt      49281 non-null  float64\n",
      " 13  wants_extra_baggage     49281 non-null  int64  \n",
      " 14  wants_preferred_seat    49281 non-null  int64  \n",
      " 15  wants_in_flight_meals   49281 non-null  int64  \n",
      "dtypes: float64(13), int64(3)\n",
      "memory usage: 6.0 MB\n"
     ]
    }
   ],
   "source": [
    "df.info()"
   ]
  },
  {
   "cell_type": "code",
   "execution_count": 27,
   "metadata": {},
   "outputs": [
    {
     "data": {
      "text/plain": [
       "Index(['flight_day_oe', 'route_te', 'booking_origin_te', 'num_passengers_qt',\n",
       "       'purchase_lead_qt', 'length_of_stay_qt', 'flight_hour_qt'],\n",
       "      dtype='object')"
      ]
     },
     "execution_count": 27,
     "metadata": {},
     "output_type": "execute_result"
    }
   ],
   "source": [
    "var_mms = df.iloc[:,5:12].columns\n",
    "var_mms"
   ]
  },
  {
   "attachments": {},
   "cell_type": "markdown",
   "metadata": {},
   "source": [
    "#### Instantiate"
   ]
  },
  {
   "cell_type": "code",
   "execution_count": 28,
   "metadata": {},
   "outputs": [],
   "source": [
    "mms = MinMaxScaler()"
   ]
  },
  {
   "attachments": {},
   "cell_type": "markdown",
   "metadata": {},
   "source": [
    "#### Fit and transform"
   ]
  },
  {
   "cell_type": "code",
   "execution_count": 29,
   "metadata": {},
   "outputs": [],
   "source": [
    "df_mms = mms.fit_transform(df[var_mms])"
   ]
  },
  {
   "attachments": {},
   "cell_type": "markdown",
   "metadata": {},
   "source": [
    "#### Save as a dataframe"
   ]
  },
  {
   "cell_type": "code",
   "execution_count": 30,
   "metadata": {},
   "outputs": [],
   "source": [
    "#Add suffixes to variables' names\n",
    "nombres_mms = [variable + '_mms' for variable in var_mms]\n",
    "\n",
    "#Save as a dataframe\n",
    "df_mms = pd.DataFrame(df_mms,columns = nombres_mms)"
   ]
  },
  {
   "attachments": {},
   "cell_type": "markdown",
   "metadata": {},
   "source": [
    "### COMBINE SCALED DATASETS"
   ]
  },
  {
   "cell_type": "code",
   "execution_count": 31,
   "metadata": {},
   "outputs": [],
   "source": [
    "include = [df, df_mms, target]"
   ]
  },
  {
   "cell_type": "code",
   "execution_count": 32,
   "metadata": {},
   "outputs": [
    {
     "data": {
      "text/html": [
       "<div>\n",
       "<style scoped>\n",
       "    .dataframe tbody tr th:only-of-type {\n",
       "        vertical-align: middle;\n",
       "    }\n",
       "\n",
       "    .dataframe tbody tr th {\n",
       "        vertical-align: top;\n",
       "    }\n",
       "\n",
       "    .dataframe thead th {\n",
       "        text-align: right;\n",
       "    }\n",
       "</style>\n",
       "<table border=\"1\" class=\"dataframe\">\n",
       "  <thead>\n",
       "    <tr style=\"text-align: right;\">\n",
       "      <th></th>\n",
       "      <th>sales_channel_Internet</th>\n",
       "      <th>sales_channel_Mobile</th>\n",
       "      <th>trip_type_CircleTrip</th>\n",
       "      <th>trip_type_OneWay</th>\n",
       "      <th>trip_type_RoundTrip</th>\n",
       "      <th>flight_day_oe</th>\n",
       "      <th>route_te</th>\n",
       "      <th>booking_origin_te</th>\n",
       "      <th>num_passengers_qt</th>\n",
       "      <th>purchase_lead_qt</th>\n",
       "      <th>...</th>\n",
       "      <th>wants_preferred_seat</th>\n",
       "      <th>wants_in_flight_meals</th>\n",
       "      <th>flight_day_oe_mms</th>\n",
       "      <th>route_te_mms</th>\n",
       "      <th>booking_origin_te_mms</th>\n",
       "      <th>num_passengers_qt_mms</th>\n",
       "      <th>purchase_lead_qt_mms</th>\n",
       "      <th>length_of_stay_qt_mms</th>\n",
       "      <th>flight_hour_qt_mms</th>\n",
       "      <th>booking_complete</th>\n",
       "    </tr>\n",
       "  </thead>\n",
       "  <tbody>\n",
       "    <tr>\n",
       "      <th>0</th>\n",
       "      <td>1.0</td>\n",
       "      <td>0.0</td>\n",
       "      <td>0.0</td>\n",
       "      <td>0.0</td>\n",
       "      <td>1.0</td>\n",
       "      <td>6.0</td>\n",
       "      <td>0.149552</td>\n",
       "      <td>0.050000</td>\n",
       "      <td>0.703922</td>\n",
       "      <td>1.517545</td>\n",
       "      <td>...</td>\n",
       "      <td>0</td>\n",
       "      <td>0</td>\n",
       "      <td>0.833333</td>\n",
       "      <td>0.32154</td>\n",
       "      <td>0.000000</td>\n",
       "      <td>0.567693</td>\n",
       "      <td>0.645936</td>\n",
       "      <td>0.515143</td>\n",
       "      <td>0.472232</td>\n",
       "      <td>0</td>\n",
       "    </tr>\n",
       "    <tr>\n",
       "      <th>1</th>\n",
       "      <td>1.0</td>\n",
       "      <td>0.0</td>\n",
       "      <td>0.0</td>\n",
       "      <td>0.0</td>\n",
       "      <td>1.0</td>\n",
       "      <td>6.0</td>\n",
       "      <td>0.149552</td>\n",
       "      <td>0.050000</td>\n",
       "      <td>-5.199338</td>\n",
       "      <td>0.645631</td>\n",
       "      <td>...</td>\n",
       "      <td>0</td>\n",
       "      <td>0</td>\n",
       "      <td>0.833333</td>\n",
       "      <td>0.32154</td>\n",
       "      <td>0.000000</td>\n",
       "      <td>0.000000</td>\n",
       "      <td>0.562088</td>\n",
       "      <td>0.521039</td>\n",
       "      <td>0.402028</td>\n",
       "      <td>0</td>\n",
       "    </tr>\n",
       "    <tr>\n",
       "      <th>2</th>\n",
       "      <td>1.0</td>\n",
       "      <td>0.0</td>\n",
       "      <td>0.0</td>\n",
       "      <td>0.0</td>\n",
       "      <td>1.0</td>\n",
       "      <td>3.0</td>\n",
       "      <td>0.149552</td>\n",
       "      <td>0.101749</td>\n",
       "      <td>0.703922</td>\n",
       "      <td>1.397837</td>\n",
       "      <td>...</td>\n",
       "      <td>1</td>\n",
       "      <td>0</td>\n",
       "      <td>0.333333</td>\n",
       "      <td>0.32154</td>\n",
       "      <td>0.175418</td>\n",
       "      <td>0.567693</td>\n",
       "      <td>0.634424</td>\n",
       "      <td>0.535281</td>\n",
       "      <td>0.641871</td>\n",
       "      <td>0</td>\n",
       "    </tr>\n",
       "    <tr>\n",
       "      <th>3</th>\n",
       "      <td>1.0</td>\n",
       "      <td>0.0</td>\n",
       "      <td>0.0</td>\n",
       "      <td>0.0</td>\n",
       "      <td>1.0</td>\n",
       "      <td>6.0</td>\n",
       "      <td>0.149552</td>\n",
       "      <td>0.050000</td>\n",
       "      <td>-5.199338</td>\n",
       "      <td>0.514923</td>\n",
       "      <td>...</td>\n",
       "      <td>0</td>\n",
       "      <td>1</td>\n",
       "      <td>0.833333</td>\n",
       "      <td>0.32154</td>\n",
       "      <td>0.000000</td>\n",
       "      <td>0.000000</td>\n",
       "      <td>0.549518</td>\n",
       "      <td>0.578318</td>\n",
       "      <td>0.422185</td>\n",
       "      <td>0</td>\n",
       "    </tr>\n",
       "    <tr>\n",
       "      <th>4</th>\n",
       "      <td>1.0</td>\n",
       "      <td>0.0</td>\n",
       "      <td>0.0</td>\n",
       "      <td>0.0</td>\n",
       "      <td>1.0</td>\n",
       "      <td>3.0</td>\n",
       "      <td>0.149552</td>\n",
       "      <td>0.101749</td>\n",
       "      <td>0.703922</td>\n",
       "      <td>0.218773</td>\n",
       "      <td>...</td>\n",
       "      <td>0</td>\n",
       "      <td>1</td>\n",
       "      <td>0.333333</td>\n",
       "      <td>0.32154</td>\n",
       "      <td>0.175418</td>\n",
       "      <td>0.567693</td>\n",
       "      <td>0.521039</td>\n",
       "      <td>0.535281</td>\n",
       "      <td>0.606908</td>\n",
       "      <td>0</td>\n",
       "    </tr>\n",
       "  </tbody>\n",
       "</table>\n",
       "<p>5 rows × 24 columns</p>\n",
       "</div>"
      ],
      "text/plain": [
       "   sales_channel_Internet  sales_channel_Mobile  trip_type_CircleTrip  \\\n",
       "0                     1.0                   0.0                   0.0   \n",
       "1                     1.0                   0.0                   0.0   \n",
       "2                     1.0                   0.0                   0.0   \n",
       "3                     1.0                   0.0                   0.0   \n",
       "4                     1.0                   0.0                   0.0   \n",
       "\n",
       "   trip_type_OneWay  trip_type_RoundTrip  flight_day_oe  route_te  \\\n",
       "0               0.0                  1.0            6.0  0.149552   \n",
       "1               0.0                  1.0            6.0  0.149552   \n",
       "2               0.0                  1.0            3.0  0.149552   \n",
       "3               0.0                  1.0            6.0  0.149552   \n",
       "4               0.0                  1.0            3.0  0.149552   \n",
       "\n",
       "   booking_origin_te  num_passengers_qt  purchase_lead_qt  ...  \\\n",
       "0           0.050000           0.703922          1.517545  ...   \n",
       "1           0.050000          -5.199338          0.645631  ...   \n",
       "2           0.101749           0.703922          1.397837  ...   \n",
       "3           0.050000          -5.199338          0.514923  ...   \n",
       "4           0.101749           0.703922          0.218773  ...   \n",
       "\n",
       "   wants_preferred_seat  wants_in_flight_meals  flight_day_oe_mms  \\\n",
       "0                     0                      0           0.833333   \n",
       "1                     0                      0           0.833333   \n",
       "2                     1                      0           0.333333   \n",
       "3                     0                      1           0.833333   \n",
       "4                     0                      1           0.333333   \n",
       "\n",
       "   route_te_mms  booking_origin_te_mms  num_passengers_qt_mms  \\\n",
       "0       0.32154               0.000000               0.567693   \n",
       "1       0.32154               0.000000               0.000000   \n",
       "2       0.32154               0.175418               0.567693   \n",
       "3       0.32154               0.000000               0.000000   \n",
       "4       0.32154               0.175418               0.567693   \n",
       "\n",
       "   purchase_lead_qt_mms  length_of_stay_qt_mms  flight_hour_qt_mms  \\\n",
       "0              0.645936               0.515143            0.472232   \n",
       "1              0.562088               0.521039            0.402028   \n",
       "2              0.634424               0.535281            0.641871   \n",
       "3              0.549518               0.578318            0.422185   \n",
       "4              0.521039               0.535281            0.606908   \n",
       "\n",
       "   booking_complete  \n",
       "0                 0  \n",
       "1                 0  \n",
       "2                 0  \n",
       "3                 0  \n",
       "4                 0  \n",
       "\n",
       "[5 rows x 24 columns]"
      ]
     },
     "execution_count": 32,
     "metadata": {},
     "output_type": "execute_result"
    }
   ],
   "source": [
    "df_final = pd.concat(include, axis=1)\n",
    "df_final.head()"
   ]
  },
  {
   "attachments": {},
   "cell_type": "markdown",
   "metadata": {},
   "source": [
    "Save the final dataframe in .pickle format to proceed to the next step (modeling)."
   ]
  },
  {
   "cell_type": "code",
   "execution_count": 33,
   "metadata": {},
   "outputs": [],
   "source": [
    "pd.to_pickle(df_final, \"df_transformed.pickle\")"
   ]
  }
 ],
 "metadata": {
  "kernelspec": {
   "display_name": "project_BA",
   "language": "python",
   "name": "python3"
  },
  "language_info": {
   "codemirror_mode": {
    "name": "ipython",
    "version": 3
   },
   "file_extension": ".py",
   "mimetype": "text/x-python",
   "name": "python",
   "nbconvert_exporter": "python",
   "pygments_lexer": "ipython3",
   "version": "3.11.3"
  },
  "orig_nbformat": 4
 },
 "nbformat": 4,
 "nbformat_minor": 2
}
