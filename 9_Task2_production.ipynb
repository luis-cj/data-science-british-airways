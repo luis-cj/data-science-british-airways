{
 "cells": [
  {
   "attachments": {},
   "cell_type": "markdown",
   "metadata": {},
   "source": [
    "# Task 2: Predicting customer buying behaviour\n",
    "## 9. Production code"
   ]
  },
  {
   "attachments": {},
   "cell_type": "markdown",
   "metadata": {},
   "source": [
    "#### This is the script that shoud be run in .py format in production. It can be called from an API for real-time applications for example."
   ]
  },
  {
   "cell_type": "code",
   "execution_count": 1,
   "metadata": {},
   "outputs": [],
   "source": [
    "import numpy as np\n",
    "import pandas as pd\n",
    "import cloudpickle\n",
    "\n",
    "# The data read as df should the NEW data. \n",
    "# In this case it could have been a random sample from the original df.\n",
    "df = pd.read_csv(\"customer_booking.csv\",encoding='ISO-8859-1')\n",
    "\n",
    "df.drop_duplicates(inplace=True)\n",
    "\n",
    "variables = [\"booking_origin\",\"length_of_stay\",\"purchase_lead\",\"flight_duration\",\n",
    "                \"flight_hour\",\"flight_day\",\"num_passengers\",\"sales_channel\",\n",
    "                \"wants_extra_baggage\",\"wants_preferred_seat\",\"wants_in_flight_meals\",\n",
    "                \"route\"]\n",
    "\n",
    "df = df[variables]\n",
    "\n",
    "# Open pipe_production\n",
    "with open(\"pipe_production.pickle\", mode='rb') as file:\n",
    "   pipe_production = cloudpickle.load(file)\n",
    "\n",
    "scoring = pipe_production.predict_proba(df)[:, 1]"
   ]
  },
  {
   "attachments": {},
   "cell_type": "markdown",
   "metadata": {},
   "source": [
    "### The scoring returns the probability of a customer booking a flight with British Airways. \n",
    "\n",
    "### In order to interpret the result, different discrimination thresholds can be used in order to assess further steps into the booking process of a customer.\n",
    "\n",
    "For example, requiring a high discrimination threshold (let's say 80%) will lead to a small number of predicted actual bookings and thus increasing the precision of the model. However, many actual bookings would be predicted as non-bookings and so the model would not capture them (low recall). This would reduce the cost for the company in case they wanted to provide further action in the booking process (e.g. discounts for the customers) but many booking opportunities would not be considered (cost of false negatives).\n",
    "\n",
    "On the other hand, requiring a low discrimination threshold (let's say 10%) would lead to a large number of false positives. That is, many predictions as true bookings but many of them are wrong (low precision and high recall). This would increase the cost of false positives but probably having more customer booking\n",
    "\n",
    "### Then, further steps should be carried out in order to appropriately interpret the results from the machine learning model from a business perspective."
   ]
  }
 ],
 "metadata": {
  "kernelspec": {
   "display_name": "project_BA",
   "language": "python",
   "name": "python3"
  },
  "language_info": {
   "codemirror_mode": {
    "name": "ipython",
    "version": 3
   },
   "file_extension": ".py",
   "mimetype": "text/x-python",
   "name": "python",
   "nbconvert_exporter": "python",
   "pygments_lexer": "ipython3",
   "version": "3.11.3"
  },
  "orig_nbformat": 4
 },
 "nbformat": 4,
 "nbformat_minor": 2
}
