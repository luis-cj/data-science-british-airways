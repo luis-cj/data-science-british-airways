{
 "cells": [
  {
   "attachments": {},
   "cell_type": "markdown",
   "metadata": {},
   "source": [
    "# Task 2: Predicting customer buying behaviour\n",
    "## 8. Retraining code"
   ]
  },
  {
   "attachments": {},
   "cell_type": "markdown",
   "metadata": {},
   "source": [
    "#### This script should be run some time after deployment of the production code. It is used to retrain the machine learning model once its accuracy has decreased."
   ]
  },
  {
   "cell_type": "code",
   "execution_count": 1,
   "metadata": {},
   "outputs": [],
   "source": [
    "import numpy as np\n",
    "import pandas as pd\n",
    "import cloudpickle\n",
    "\n",
    "\n",
    "df = pd.read_csv(\"customer_booking.csv\",encoding='ISO-8859-1')\n",
    "\n",
    "df.drop_duplicates(inplace=True)\n",
    "\n",
    "variables = [\"booking_origin\",\"length_of_stay\",\"purchase_lead\",\"flight_duration\",\"flight_hour\",\"flight_day\",\"num_passengers\",\"sales_channel\",\"wants_extra_baggage\",\"wants_preferred_seat\",\"wants_in_flight_meals\",\"route\"]\n",
    "\n",
    "target = \"booking_complete\"\n",
    "\n",
    "x = df[variables].copy()\n",
    "y = df[target].copy()\n",
    "\n",
    "# Open pipe_training\n",
    "with open(\"pipe_training.pickle\", mode='rb') as file:\n",
    "   pipe_training = cloudpickle.load(file)\n",
    "\n",
    "# Fit the training pipe and save the new production pipeline\n",
    "pipe_production = pipe_training.fit(x,y)\n",
    "\n",
    "with open(\"pipe_production.pickle\", mode='wb') as file:\n",
    "   cloudpickle.dump(pipe_production, file)"
   ]
  }
 ],
 "metadata": {
  "kernelspec": {
   "display_name": "project_BA",
   "language": "python",
   "name": "python3"
  },
  "language_info": {
   "codemirror_mode": {
    "name": "ipython",
    "version": 3
   },
   "file_extension": ".py",
   "mimetype": "text/x-python",
   "name": "python",
   "nbconvert_exporter": "python",
   "pygments_lexer": "ipython3",
   "version": "3.11.3"
  },
  "orig_nbformat": 4
 },
 "nbformat": 4,
 "nbformat_minor": 2
}
