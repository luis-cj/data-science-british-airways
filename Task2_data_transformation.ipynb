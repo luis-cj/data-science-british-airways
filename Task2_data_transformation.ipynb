{
 "cells": [
  {
   "attachments": {},
   "cell_type": "markdown",
   "metadata": {},
   "source": [
    "# Task 2: Predicting customer buying behaviour\n",
    "## 3. Data transformation"
   ]
  },
  {
   "attachments": {},
   "cell_type": "markdown",
   "metadata": {},
   "source": [
    "## Import libraries"
   ]
  },
  {
   "cell_type": "code",
   "execution_count": 1,
   "metadata": {},
   "outputs": [],
   "source": [
    "import numpy as np\n",
    "import pandas as pd\n",
    "import matplotlib.pyplot as plt\n",
    "import seaborn as sns\n",
    "\n",
    "from sklearn.preprocessing import OneHotEncoder\n",
    "from sklearn.preprocessing import OrdinalEncoder\n",
    "\n",
    "from sklearn.preprocessing import PowerTransformer\n",
    "from sklearn.preprocessing import QuantileTransformer\n",
    "from sklearn.feature_extraction.text import CountVectorizer\n",
    "from sklearn.feature_extraction.text import TfidfVectorizer\n",
    "from sklearn.preprocessing import MinMaxScaler\n",
    "from sklearn.preprocessing import StandardScaler\n",
    "from sklearn.preprocessing import RobustScaler\n",
    "from sklearn.preprocessing import MaxAbsScaler"
   ]
  },
  {
   "attachments": {},
   "cell_type": "markdown",
   "metadata": {},
   "source": [
    "## Load the data"
   ]
  },
  {
   "cell_type": "code",
   "execution_count": 2,
   "metadata": {},
   "outputs": [],
   "source": [
    "cat = pd.read_pickle(\"cat_eda.pickle\")\n",
    "num = pd.read_pickle(\"num_eda.pickle\")"
   ]
  },
  {
   "attachments": {},
   "cell_type": "markdown",
   "metadata": {},
   "source": [
    "## Separate the target variable"
   ]
  },
  {
   "cell_type": "code",
   "execution_count": 3,
   "metadata": {},
   "outputs": [],
   "source": [
    "target = num[[\"booking_complete\"]].copy().reset_index(drop=True)"
   ]
  },
  {
   "attachments": {},
   "cell_type": "markdown",
   "metadata": {},
   "source": [
    "## CATEGORICAL VARIABLES TRANSFORMATION"
   ]
  },
  {
   "cell_type": "code",
   "execution_count": 4,
   "metadata": {},
   "outputs": [
    {
     "data": {
      "text/html": [
       "<div>\n",
       "<style scoped>\n",
       "    .dataframe tbody tr th:only-of-type {\n",
       "        vertical-align: middle;\n",
       "    }\n",
       "\n",
       "    .dataframe tbody tr th {\n",
       "        vertical-align: top;\n",
       "    }\n",
       "\n",
       "    .dataframe thead th {\n",
       "        text-align: right;\n",
       "    }\n",
       "</style>\n",
       "<table border=\"1\" class=\"dataframe\">\n",
       "  <thead>\n",
       "    <tr style=\"text-align: right;\">\n",
       "      <th></th>\n",
       "      <th>sales_channel</th>\n",
       "      <th>trip_type</th>\n",
       "      <th>flight_day</th>\n",
       "      <th>route</th>\n",
       "      <th>booking_origin</th>\n",
       "    </tr>\n",
       "  </thead>\n",
       "  <tbody>\n",
       "    <tr>\n",
       "      <th>0</th>\n",
       "      <td>Internet</td>\n",
       "      <td>RoundTrip</td>\n",
       "      <td>Sat</td>\n",
       "      <td>OTHERS</td>\n",
       "      <td>New Zealand</td>\n",
       "    </tr>\n",
       "    <tr>\n",
       "      <th>1</th>\n",
       "      <td>Internet</td>\n",
       "      <td>RoundTrip</td>\n",
       "      <td>Sat</td>\n",
       "      <td>OTHERS</td>\n",
       "      <td>New Zealand</td>\n",
       "    </tr>\n",
       "    <tr>\n",
       "      <th>2</th>\n",
       "      <td>Internet</td>\n",
       "      <td>RoundTrip</td>\n",
       "      <td>Wed</td>\n",
       "      <td>OTHERS</td>\n",
       "      <td>India</td>\n",
       "    </tr>\n",
       "    <tr>\n",
       "      <th>3</th>\n",
       "      <td>Internet</td>\n",
       "      <td>RoundTrip</td>\n",
       "      <td>Sat</td>\n",
       "      <td>OTHERS</td>\n",
       "      <td>New Zealand</td>\n",
       "    </tr>\n",
       "    <tr>\n",
       "      <th>4</th>\n",
       "      <td>Internet</td>\n",
       "      <td>RoundTrip</td>\n",
       "      <td>Wed</td>\n",
       "      <td>OTHERS</td>\n",
       "      <td>India</td>\n",
       "    </tr>\n",
       "  </tbody>\n",
       "</table>\n",
       "</div>"
      ],
      "text/plain": [
       "  sales_channel  trip_type flight_day   route booking_origin\n",
       "0      Internet  RoundTrip        Sat  OTHERS    New Zealand\n",
       "1      Internet  RoundTrip        Sat  OTHERS    New Zealand\n",
       "2      Internet  RoundTrip        Wed  OTHERS          India\n",
       "3      Internet  RoundTrip        Sat  OTHERS    New Zealand\n",
       "4      Internet  RoundTrip        Wed  OTHERS          India"
      ]
     },
     "execution_count": 4,
     "metadata": {},
     "output_type": "execute_result"
    }
   ],
   "source": [
    "cat.head()"
   ]
  },
  {
   "attachments": {},
   "cell_type": "markdown",
   "metadata": {},
   "source": [
    "### One Hot Encoding"
   ]
  },
  {
   "attachments": {},
   "cell_type": "markdown",
   "metadata": {},
   "source": [
    "#### Variables to apply OHE"
   ]
  },
  {
   "cell_type": "code",
   "execution_count": 5,
   "metadata": {},
   "outputs": [],
   "source": [
    "var_ohe = [\"sales_channel\",\"trip_type\",\"route\",\"booking_origin\"]"
   ]
  },
  {
   "attachments": {},
   "cell_type": "markdown",
   "metadata": {},
   "source": [
    "#### Instantiate"
   ]
  },
  {
   "cell_type": "code",
   "execution_count": 6,
   "metadata": {},
   "outputs": [],
   "source": [
    "ohe = OneHotEncoder(sparse_output = False, handle_unknown='ignore')"
   ]
  },
  {
   "attachments": {},
   "cell_type": "markdown",
   "metadata": {},
   "source": [
    "#### Train and apply"
   ]
  },
  {
   "cell_type": "code",
   "execution_count": 7,
   "metadata": {},
   "outputs": [],
   "source": [
    "cat_ohe = ohe.fit_transform(cat[var_ohe])"
   ]
  },
  {
   "attachments": {},
   "cell_type": "markdown",
   "metadata": {},
   "source": [
    "#### Save as dataframe"
   ]
  },
  {
   "cell_type": "code",
   "execution_count": 8,
   "metadata": {},
   "outputs": [
    {
     "data": {
      "text/html": [
       "<div>\n",
       "<style scoped>\n",
       "    .dataframe tbody tr th:only-of-type {\n",
       "        vertical-align: middle;\n",
       "    }\n",
       "\n",
       "    .dataframe tbody tr th {\n",
       "        vertical-align: top;\n",
       "    }\n",
       "\n",
       "    .dataframe thead th {\n",
       "        text-align: right;\n",
       "    }\n",
       "</style>\n",
       "<table border=\"1\" class=\"dataframe\">\n",
       "  <thead>\n",
       "    <tr style=\"text-align: right;\">\n",
       "      <th></th>\n",
       "      <th>sales_channel_Internet</th>\n",
       "      <th>sales_channel_Mobile</th>\n",
       "      <th>trip_type_CircleTrip</th>\n",
       "      <th>trip_type_OneWay</th>\n",
       "      <th>trip_type_RoundTrip</th>\n",
       "      <th>route_AKLKUL</th>\n",
       "      <th>route_CGKHND</th>\n",
       "      <th>route_CGKICN</th>\n",
       "      <th>route_CGKKIX</th>\n",
       "      <th>route_CMBMEL</th>\n",
       "      <th>...</th>\n",
       "      <th>booking_origin_Malaysia</th>\n",
       "      <th>booking_origin_New Zealand</th>\n",
       "      <th>booking_origin_OTHERS</th>\n",
       "      <th>booking_origin_Philippines</th>\n",
       "      <th>booking_origin_Singapore</th>\n",
       "      <th>booking_origin_South Korea</th>\n",
       "      <th>booking_origin_Taiwan</th>\n",
       "      <th>booking_origin_Thailand</th>\n",
       "      <th>booking_origin_United States</th>\n",
       "      <th>booking_origin_Vietnam</th>\n",
       "    </tr>\n",
       "  </thead>\n",
       "  <tbody>\n",
       "    <tr>\n",
       "      <th>0</th>\n",
       "      <td>1.0</td>\n",
       "      <td>0.0</td>\n",
       "      <td>0.0</td>\n",
       "      <td>0.0</td>\n",
       "      <td>1.0</td>\n",
       "      <td>0.0</td>\n",
       "      <td>0.0</td>\n",
       "      <td>0.0</td>\n",
       "      <td>0.0</td>\n",
       "      <td>0.0</td>\n",
       "      <td>...</td>\n",
       "      <td>0.0</td>\n",
       "      <td>1.0</td>\n",
       "      <td>0.0</td>\n",
       "      <td>0.0</td>\n",
       "      <td>0.0</td>\n",
       "      <td>0.0</td>\n",
       "      <td>0.0</td>\n",
       "      <td>0.0</td>\n",
       "      <td>0.0</td>\n",
       "      <td>0.0</td>\n",
       "    </tr>\n",
       "    <tr>\n",
       "      <th>1</th>\n",
       "      <td>1.0</td>\n",
       "      <td>0.0</td>\n",
       "      <td>0.0</td>\n",
       "      <td>0.0</td>\n",
       "      <td>1.0</td>\n",
       "      <td>0.0</td>\n",
       "      <td>0.0</td>\n",
       "      <td>0.0</td>\n",
       "      <td>0.0</td>\n",
       "      <td>0.0</td>\n",
       "      <td>...</td>\n",
       "      <td>0.0</td>\n",
       "      <td>1.0</td>\n",
       "      <td>0.0</td>\n",
       "      <td>0.0</td>\n",
       "      <td>0.0</td>\n",
       "      <td>0.0</td>\n",
       "      <td>0.0</td>\n",
       "      <td>0.0</td>\n",
       "      <td>0.0</td>\n",
       "      <td>0.0</td>\n",
       "    </tr>\n",
       "    <tr>\n",
       "      <th>2</th>\n",
       "      <td>1.0</td>\n",
       "      <td>0.0</td>\n",
       "      <td>0.0</td>\n",
       "      <td>0.0</td>\n",
       "      <td>1.0</td>\n",
       "      <td>0.0</td>\n",
       "      <td>0.0</td>\n",
       "      <td>0.0</td>\n",
       "      <td>0.0</td>\n",
       "      <td>0.0</td>\n",
       "      <td>...</td>\n",
       "      <td>0.0</td>\n",
       "      <td>0.0</td>\n",
       "      <td>0.0</td>\n",
       "      <td>0.0</td>\n",
       "      <td>0.0</td>\n",
       "      <td>0.0</td>\n",
       "      <td>0.0</td>\n",
       "      <td>0.0</td>\n",
       "      <td>0.0</td>\n",
       "      <td>0.0</td>\n",
       "    </tr>\n",
       "    <tr>\n",
       "      <th>3</th>\n",
       "      <td>1.0</td>\n",
       "      <td>0.0</td>\n",
       "      <td>0.0</td>\n",
       "      <td>0.0</td>\n",
       "      <td>1.0</td>\n",
       "      <td>0.0</td>\n",
       "      <td>0.0</td>\n",
       "      <td>0.0</td>\n",
       "      <td>0.0</td>\n",
       "      <td>0.0</td>\n",
       "      <td>...</td>\n",
       "      <td>0.0</td>\n",
       "      <td>1.0</td>\n",
       "      <td>0.0</td>\n",
       "      <td>0.0</td>\n",
       "      <td>0.0</td>\n",
       "      <td>0.0</td>\n",
       "      <td>0.0</td>\n",
       "      <td>0.0</td>\n",
       "      <td>0.0</td>\n",
       "      <td>0.0</td>\n",
       "    </tr>\n",
       "    <tr>\n",
       "      <th>4</th>\n",
       "      <td>1.0</td>\n",
       "      <td>0.0</td>\n",
       "      <td>0.0</td>\n",
       "      <td>0.0</td>\n",
       "      <td>1.0</td>\n",
       "      <td>0.0</td>\n",
       "      <td>0.0</td>\n",
       "      <td>0.0</td>\n",
       "      <td>0.0</td>\n",
       "      <td>0.0</td>\n",
       "      <td>...</td>\n",
       "      <td>0.0</td>\n",
       "      <td>0.0</td>\n",
       "      <td>0.0</td>\n",
       "      <td>0.0</td>\n",
       "      <td>0.0</td>\n",
       "      <td>0.0</td>\n",
       "      <td>0.0</td>\n",
       "      <td>0.0</td>\n",
       "      <td>0.0</td>\n",
       "      <td>0.0</td>\n",
       "    </tr>\n",
       "  </tbody>\n",
       "</table>\n",
       "<p>5 rows × 73 columns</p>\n",
       "</div>"
      ],
      "text/plain": [
       "   sales_channel_Internet  sales_channel_Mobile  trip_type_CircleTrip  \\\n",
       "0                     1.0                   0.0                   0.0   \n",
       "1                     1.0                   0.0                   0.0   \n",
       "2                     1.0                   0.0                   0.0   \n",
       "3                     1.0                   0.0                   0.0   \n",
       "4                     1.0                   0.0                   0.0   \n",
       "\n",
       "   trip_type_OneWay  trip_type_RoundTrip  route_AKLKUL  route_CGKHND  \\\n",
       "0               0.0                  1.0           0.0           0.0   \n",
       "1               0.0                  1.0           0.0           0.0   \n",
       "2               0.0                  1.0           0.0           0.0   \n",
       "3               0.0                  1.0           0.0           0.0   \n",
       "4               0.0                  1.0           0.0           0.0   \n",
       "\n",
       "   route_CGKICN  route_CGKKIX  route_CMBMEL  ...  booking_origin_Malaysia  \\\n",
       "0           0.0           0.0           0.0  ...                      0.0   \n",
       "1           0.0           0.0           0.0  ...                      0.0   \n",
       "2           0.0           0.0           0.0  ...                      0.0   \n",
       "3           0.0           0.0           0.0  ...                      0.0   \n",
       "4           0.0           0.0           0.0  ...                      0.0   \n",
       "\n",
       "   booking_origin_New Zealand  booking_origin_OTHERS  \\\n",
       "0                         1.0                    0.0   \n",
       "1                         1.0                    0.0   \n",
       "2                         0.0                    0.0   \n",
       "3                         1.0                    0.0   \n",
       "4                         0.0                    0.0   \n",
       "\n",
       "   booking_origin_Philippines  booking_origin_Singapore  \\\n",
       "0                         0.0                       0.0   \n",
       "1                         0.0                       0.0   \n",
       "2                         0.0                       0.0   \n",
       "3                         0.0                       0.0   \n",
       "4                         0.0                       0.0   \n",
       "\n",
       "   booking_origin_South Korea  booking_origin_Taiwan  booking_origin_Thailand  \\\n",
       "0                         0.0                    0.0                      0.0   \n",
       "1                         0.0                    0.0                      0.0   \n",
       "2                         0.0                    0.0                      0.0   \n",
       "3                         0.0                    0.0                      0.0   \n",
       "4                         0.0                    0.0                      0.0   \n",
       "\n",
       "   booking_origin_United States  booking_origin_Vietnam  \n",
       "0                           0.0                     0.0  \n",
       "1                           0.0                     0.0  \n",
       "2                           0.0                     0.0  \n",
       "3                           0.0                     0.0  \n",
       "4                           0.0                     0.0  \n",
       "\n",
       "[5 rows x 73 columns]"
      ]
     },
     "execution_count": 8,
     "metadata": {},
     "output_type": "execute_result"
    }
   ],
   "source": [
    "cat_ohe = pd.DataFrame(cat_ohe, columns = ohe.get_feature_names_out())\n",
    "cat_ohe.head()"
   ]
  },
  {
   "attachments": {},
   "cell_type": "markdown",
   "metadata": {},
   "source": [
    "### Ordinal Encoding"
   ]
  },
  {
   "attachments": {},
   "cell_type": "markdown",
   "metadata": {},
   "source": [
    "#### Variables to apply OE"
   ]
  },
  {
   "cell_type": "code",
   "execution_count": 9,
   "metadata": {},
   "outputs": [],
   "source": [
    "var_oe = [\"flight_day\"]"
   ]
  },
  {
   "attachments": {},
   "cell_type": "markdown",
   "metadata": {},
   "source": [
    "#### Order of those variables"
   ]
  },
  {
   "cell_type": "code",
   "execution_count": 10,
   "metadata": {},
   "outputs": [],
   "source": [
    "order_flight_day = [\"Mon\",\"Tue\",\"Wed\",\"Thu\",\"Fri\",\"Sat\",\"Sun\"]"
   ]
  },
  {
   "attachments": {},
   "cell_type": "markdown",
   "metadata": {},
   "source": [
    "#### Instantiate"
   ]
  },
  {
   "cell_type": "code",
   "execution_count": 11,
   "metadata": {},
   "outputs": [],
   "source": [
    "oe = OrdinalEncoder(categories = [order_flight_day],\n",
    "                    handle_unknown = 'use_encoded_value',\n",
    "                    unknown_value = 10)"
   ]
  },
  {
   "attachments": {},
   "cell_type": "markdown",
   "metadata": {},
   "source": [
    "#### Fit and transform"
   ]
  },
  {
   "cell_type": "code",
   "execution_count": 12,
   "metadata": {},
   "outputs": [],
   "source": [
    "cat_oe = oe.fit_transform(cat[var_oe]) + 1"
   ]
  },
  {
   "attachments": {},
   "cell_type": "markdown",
   "metadata": {},
   "source": [
    "#### Save as a dataframe"
   ]
  },
  {
   "cell_type": "code",
   "execution_count": 13,
   "metadata": {},
   "outputs": [
    {
     "data": {
      "text/html": [
       "<div>\n",
       "<style scoped>\n",
       "    .dataframe tbody tr th:only-of-type {\n",
       "        vertical-align: middle;\n",
       "    }\n",
       "\n",
       "    .dataframe tbody tr th {\n",
       "        vertical-align: top;\n",
       "    }\n",
       "\n",
       "    .dataframe thead th {\n",
       "        text-align: right;\n",
       "    }\n",
       "</style>\n",
       "<table border=\"1\" class=\"dataframe\">\n",
       "  <thead>\n",
       "    <tr style=\"text-align: right;\">\n",
       "      <th></th>\n",
       "      <th>flight_day_oe</th>\n",
       "    </tr>\n",
       "  </thead>\n",
       "  <tbody>\n",
       "    <tr>\n",
       "      <th>0</th>\n",
       "      <td>6.0</td>\n",
       "    </tr>\n",
       "    <tr>\n",
       "      <th>1</th>\n",
       "      <td>6.0</td>\n",
       "    </tr>\n",
       "    <tr>\n",
       "      <th>2</th>\n",
       "      <td>3.0</td>\n",
       "    </tr>\n",
       "    <tr>\n",
       "      <th>3</th>\n",
       "      <td>6.0</td>\n",
       "    </tr>\n",
       "    <tr>\n",
       "      <th>4</th>\n",
       "      <td>3.0</td>\n",
       "    </tr>\n",
       "  </tbody>\n",
       "</table>\n",
       "</div>"
      ],
      "text/plain": [
       "   flight_day_oe\n",
       "0            6.0\n",
       "1            6.0\n",
       "2            3.0\n",
       "3            6.0\n",
       "4            3.0"
      ]
     },
     "execution_count": 13,
     "metadata": {},
     "output_type": "execute_result"
    }
   ],
   "source": [
    "#Add suffixes to variables' names\n",
    "names_oe = [variable + '_oe' for variable in var_oe]\n",
    "\n",
    "#Save as a dataframe\n",
    "cat_oe = pd.DataFrame(cat_oe, columns = names_oe)\n",
    "cat_oe.head()"
   ]
  },
  {
   "attachments": {},
   "cell_type": "markdown",
   "metadata": {},
   "source": [
    "## NUMERICAL VARIABLES TRANSFORMATION"
   ]
  },
  {
   "attachments": {},
   "cell_type": "markdown",
   "metadata": {},
   "source": [
    "### Normalization (Gauss)"
   ]
  },
  {
   "cell_type": "code",
   "execution_count": 19,
   "metadata": {},
   "outputs": [],
   "source": [
    "var_qt = [\"num_passengers\",\"purchase_lead\",\"length_of_stay\",\"flight_hour\",\"flight_duration\"]"
   ]
  },
  {
   "attachments": {},
   "cell_type": "markdown",
   "metadata": {},
   "source": [
    "##### Instantiate"
   ]
  },
  {
   "cell_type": "code",
   "execution_count": 20,
   "metadata": {},
   "outputs": [],
   "source": [
    "qt = QuantileTransformer(output_distribution='normal')"
   ]
  },
  {
   "attachments": {},
   "cell_type": "markdown",
   "metadata": {},
   "source": [
    "##### Fit and transform"
   ]
  },
  {
   "cell_type": "code",
   "execution_count": 21,
   "metadata": {},
   "outputs": [],
   "source": [
    "num_qt = qt.fit_transform(num[var_qt])"
   ]
  },
  {
   "attachments": {},
   "cell_type": "markdown",
   "metadata": {},
   "source": [
    "##### Save as a dataframe"
   ]
  },
  {
   "cell_type": "code",
   "execution_count": 22,
   "metadata": {},
   "outputs": [],
   "source": [
    "#Add suffixes to variables' names\n",
    "names_qt = [variable + '_qt' for variable in var_qt]\n",
    "\n",
    "#Save as a dataframe\n",
    "num_qt = pd.DataFrame(num_qt,columns = names_qt)"
   ]
  },
  {
   "attachments": {},
   "cell_type": "markdown",
   "metadata": {},
   "source": [
    "## COMBINE ALL DATASETS"
   ]
  },
  {
   "attachments": {},
   "cell_type": "markdown",
   "metadata": {},
   "source": [
    "First let's add the non-transformed data"
   ]
  },
  {
   "cell_type": "code",
   "execution_count": 49,
   "metadata": {},
   "outputs": [
    {
     "data": {
      "text/plain": [
       "['wants_extra_baggage', 'wants_preferred_seat', 'wants_in_flight_meals']"
      ]
     },
     "execution_count": 49,
     "metadata": {},
     "output_type": "execute_result"
    }
   ],
   "source": [
    "variables = cat.columns.to_list() + num.iloc[:,:-1].columns.to_list()\n",
    "var_trans = var_oe + var_ohe + var_qt\n",
    "var_nt = [name for name in variables if name not in var_trans]\n",
    "var_nt"
   ]
  },
  {
   "cell_type": "code",
   "execution_count": 50,
   "metadata": {},
   "outputs": [],
   "source": [
    "num_nt = num[var_nt]"
   ]
  },
  {
   "cell_type": "code",
   "execution_count": 51,
   "metadata": {},
   "outputs": [],
   "source": [
    "dataframes = []\n",
    "dataframes.extend(value for name, value in locals().items() if name.startswith('cat_') or name.startswith('num_'))"
   ]
  },
  {
   "attachments": {},
   "cell_type": "markdown",
   "metadata": {},
   "source": [
    "### Concatenate all the datasets"
   ]
  },
  {
   "cell_type": "code",
   "execution_count": 52,
   "metadata": {},
   "outputs": [
    {
     "data": {
      "text/html": [
       "<div>\n",
       "<style scoped>\n",
       "    .dataframe tbody tr th:only-of-type {\n",
       "        vertical-align: middle;\n",
       "    }\n",
       "\n",
       "    .dataframe tbody tr th {\n",
       "        vertical-align: top;\n",
       "    }\n",
       "\n",
       "    .dataframe thead th {\n",
       "        text-align: right;\n",
       "    }\n",
       "</style>\n",
       "<table border=\"1\" class=\"dataframe\">\n",
       "  <thead>\n",
       "    <tr style=\"text-align: right;\">\n",
       "      <th></th>\n",
       "      <th>sales_channel_Internet</th>\n",
       "      <th>sales_channel_Mobile</th>\n",
       "      <th>trip_type_CircleTrip</th>\n",
       "      <th>trip_type_OneWay</th>\n",
       "      <th>trip_type_RoundTrip</th>\n",
       "      <th>route_AKLKUL</th>\n",
       "      <th>route_CGKHND</th>\n",
       "      <th>route_CGKICN</th>\n",
       "      <th>route_CGKKIX</th>\n",
       "      <th>route_CMBMEL</th>\n",
       "      <th>...</th>\n",
       "      <th>booking_origin_Vietnam</th>\n",
       "      <th>flight_day_oe</th>\n",
       "      <th>num_passengers_qt</th>\n",
       "      <th>purchase_lead_qt</th>\n",
       "      <th>length_of_stay_qt</th>\n",
       "      <th>flight_hour_qt</th>\n",
       "      <th>flight_duration_qt</th>\n",
       "      <th>wants_extra_baggage</th>\n",
       "      <th>wants_preferred_seat</th>\n",
       "      <th>wants_in_flight_meals</th>\n",
       "    </tr>\n",
       "  </thead>\n",
       "  <tbody>\n",
       "    <tr>\n",
       "      <th>0</th>\n",
       "      <td>1.0</td>\n",
       "      <td>0.0</td>\n",
       "      <td>0.0</td>\n",
       "      <td>0.0</td>\n",
       "      <td>1.0</td>\n",
       "      <td>0.0</td>\n",
       "      <td>0.0</td>\n",
       "      <td>0.0</td>\n",
       "      <td>0.0</td>\n",
       "      <td>0.0</td>\n",
       "      <td>...</td>\n",
       "      <td>0.0</td>\n",
       "      <td>6.0</td>\n",
       "      <td>0.708752</td>\n",
       "      <td>1.505747</td>\n",
       "      <td>0.181652</td>\n",
       "      <td>-0.293986</td>\n",
       "      <td>-1.059682</td>\n",
       "      <td>1.0</td>\n",
       "      <td>0.0</td>\n",
       "      <td>0.0</td>\n",
       "    </tr>\n",
       "    <tr>\n",
       "      <th>1</th>\n",
       "      <td>1.0</td>\n",
       "      <td>0.0</td>\n",
       "      <td>0.0</td>\n",
       "      <td>0.0</td>\n",
       "      <td>1.0</td>\n",
       "      <td>0.0</td>\n",
       "      <td>0.0</td>\n",
       "      <td>0.0</td>\n",
       "      <td>0.0</td>\n",
       "      <td>0.0</td>\n",
       "      <td>...</td>\n",
       "      <td>0.0</td>\n",
       "      <td>6.0</td>\n",
       "      <td>-5.199338</td>\n",
       "      <td>0.653377</td>\n",
       "      <td>0.249721</td>\n",
       "      <td>-0.999986</td>\n",
       "      <td>-1.059682</td>\n",
       "      <td>0.0</td>\n",
       "      <td>0.0</td>\n",
       "      <td>0.0</td>\n",
       "    </tr>\n",
       "    <tr>\n",
       "      <th>2</th>\n",
       "      <td>1.0</td>\n",
       "      <td>0.0</td>\n",
       "      <td>0.0</td>\n",
       "      <td>0.0</td>\n",
       "      <td>1.0</td>\n",
       "      <td>0.0</td>\n",
       "      <td>0.0</td>\n",
       "      <td>0.0</td>\n",
       "      <td>0.0</td>\n",
       "      <td>0.0</td>\n",
       "      <td>...</td>\n",
       "      <td>0.0</td>\n",
       "      <td>3.0</td>\n",
       "      <td>0.708752</td>\n",
       "      <td>1.384628</td>\n",
       "      <td>0.400635</td>\n",
       "      <td>1.464186</td>\n",
       "      <td>-1.059682</td>\n",
       "      <td>1.0</td>\n",
       "      <td>1.0</td>\n",
       "      <td>0.0</td>\n",
       "    </tr>\n",
       "    <tr>\n",
       "      <th>3</th>\n",
       "      <td>1.0</td>\n",
       "      <td>0.0</td>\n",
       "      <td>0.0</td>\n",
       "      <td>0.0</td>\n",
       "      <td>1.0</td>\n",
       "      <td>0.0</td>\n",
       "      <td>0.0</td>\n",
       "      <td>0.0</td>\n",
       "      <td>0.0</td>\n",
       "      <td>0.0</td>\n",
       "      <td>...</td>\n",
       "      <td>0.0</td>\n",
       "      <td>6.0</td>\n",
       "      <td>-5.199338</td>\n",
       "      <td>0.527858</td>\n",
       "      <td>0.837338</td>\n",
       "      <td>-0.795322</td>\n",
       "      <td>-1.059682</td>\n",
       "      <td>0.0</td>\n",
       "      <td>0.0</td>\n",
       "      <td>1.0</td>\n",
       "    </tr>\n",
       "    <tr>\n",
       "      <th>4</th>\n",
       "      <td>1.0</td>\n",
       "      <td>0.0</td>\n",
       "      <td>0.0</td>\n",
       "      <td>0.0</td>\n",
       "      <td>1.0</td>\n",
       "      <td>0.0</td>\n",
       "      <td>0.0</td>\n",
       "      <td>0.0</td>\n",
       "      <td>0.0</td>\n",
       "      <td>0.0</td>\n",
       "      <td>...</td>\n",
       "      <td>0.0</td>\n",
       "      <td>3.0</td>\n",
       "      <td>0.708752</td>\n",
       "      <td>0.235509</td>\n",
       "      <td>0.400635</td>\n",
       "      <td>1.116369</td>\n",
       "      <td>-1.059682</td>\n",
       "      <td>1.0</td>\n",
       "      <td>0.0</td>\n",
       "      <td>1.0</td>\n",
       "    </tr>\n",
       "  </tbody>\n",
       "</table>\n",
       "<p>5 rows × 82 columns</p>\n",
       "</div>"
      ],
      "text/plain": [
       "   sales_channel_Internet  sales_channel_Mobile  trip_type_CircleTrip  \\\n",
       "0                     1.0                   0.0                   0.0   \n",
       "1                     1.0                   0.0                   0.0   \n",
       "2                     1.0                   0.0                   0.0   \n",
       "3                     1.0                   0.0                   0.0   \n",
       "4                     1.0                   0.0                   0.0   \n",
       "\n",
       "   trip_type_OneWay  trip_type_RoundTrip  route_AKLKUL  route_CGKHND  \\\n",
       "0               0.0                  1.0           0.0           0.0   \n",
       "1               0.0                  1.0           0.0           0.0   \n",
       "2               0.0                  1.0           0.0           0.0   \n",
       "3               0.0                  1.0           0.0           0.0   \n",
       "4               0.0                  1.0           0.0           0.0   \n",
       "\n",
       "   route_CGKICN  route_CGKKIX  route_CMBMEL  ...  booking_origin_Vietnam  \\\n",
       "0           0.0           0.0           0.0  ...                     0.0   \n",
       "1           0.0           0.0           0.0  ...                     0.0   \n",
       "2           0.0           0.0           0.0  ...                     0.0   \n",
       "3           0.0           0.0           0.0  ...                     0.0   \n",
       "4           0.0           0.0           0.0  ...                     0.0   \n",
       "\n",
       "   flight_day_oe  num_passengers_qt  purchase_lead_qt  length_of_stay_qt  \\\n",
       "0            6.0           0.708752          1.505747           0.181652   \n",
       "1            6.0          -5.199338          0.653377           0.249721   \n",
       "2            3.0           0.708752          1.384628           0.400635   \n",
       "3            6.0          -5.199338          0.527858           0.837338   \n",
       "4            3.0           0.708752          0.235509           0.400635   \n",
       "\n",
       "   flight_hour_qt  flight_duration_qt  wants_extra_baggage  \\\n",
       "0       -0.293986           -1.059682                  1.0   \n",
       "1       -0.999986           -1.059682                  0.0   \n",
       "2        1.464186           -1.059682                  1.0   \n",
       "3       -0.795322           -1.059682                  0.0   \n",
       "4        1.116369           -1.059682                  1.0   \n",
       "\n",
       "   wants_preferred_seat  wants_in_flight_meals  \n",
       "0                   0.0                    0.0  \n",
       "1                   0.0                    0.0  \n",
       "2                   1.0                    0.0  \n",
       "3                   0.0                    1.0  \n",
       "4                   0.0                    1.0  \n",
       "\n",
       "[5 rows x 82 columns]"
      ]
     },
     "execution_count": 52,
     "metadata": {},
     "output_type": "execute_result"
    }
   ],
   "source": [
    "df = pd.concat(dataframes, axis = 1)\n",
    "df.head()"
   ]
  },
  {
   "attachments": {},
   "cell_type": "markdown",
   "metadata": {},
   "source": [
    "## FEATURE SCALING"
   ]
  },
  {
   "attachments": {},
   "cell_type": "markdown",
   "metadata": {},
   "source": [
    "### Min-Max scaling (Normalization between 0 and 1)"
   ]
  },
  {
   "cell_type": "code",
   "execution_count": 53,
   "metadata": {},
   "outputs": [
    {
     "name": "stdout",
     "output_type": "stream",
     "text": [
      "<class 'pandas.core.frame.DataFrame'>\n",
      "Int64Index: 49990 entries, 0 to 49999\n",
      "Data columns (total 82 columns):\n",
      " #   Column                        Non-Null Count  Dtype  \n",
      "---  ------                        --------------  -----  \n",
      " 0   sales_channel_Internet        49281 non-null  float64\n",
      " 1   sales_channel_Mobile          49281 non-null  float64\n",
      " 2   trip_type_CircleTrip          49281 non-null  float64\n",
      " 3   trip_type_OneWay              49281 non-null  float64\n",
      " 4   trip_type_RoundTrip           49281 non-null  float64\n",
      " 5   route_AKLKUL                  49281 non-null  float64\n",
      " 6   route_CGKHND                  49281 non-null  float64\n",
      " 7   route_CGKICN                  49281 non-null  float64\n",
      " 8   route_CGKKIX                  49281 non-null  float64\n",
      " 9   route_CMBMEL                  49281 non-null  float64\n",
      " 10  route_CMBSYD                  49281 non-null  float64\n",
      " 11  route_COKMEL                  49281 non-null  float64\n",
      " 12  route_COKPER                  49281 non-null  float64\n",
      " 13  route_COKSYD                  49281 non-null  float64\n",
      " 14  route_CTSDMK                  49281 non-null  float64\n",
      " 15  route_DELMEL                  49281 non-null  float64\n",
      " 16  route_DMKICN                  49281 non-null  float64\n",
      " 17  route_DMKKIX                  49281 non-null  float64\n",
      " 18  route_DMKMEL                  49281 non-null  float64\n",
      " 19  route_DMKOOL                  49281 non-null  float64\n",
      " 20  route_DMKPER                  49281 non-null  float64\n",
      " 21  route_DMKSYD                  49281 non-null  float64\n",
      " 22  route_DPSHND                  49281 non-null  float64\n",
      " 23  route_DPSICN                  49281 non-null  float64\n",
      " 24  route_DPSKIX                  49281 non-null  float64\n",
      " 25  route_DPSPEK                  49281 non-null  float64\n",
      " 26  route_DPSPVG                  49281 non-null  float64\n",
      " 27  route_HKTICN                  49281 non-null  float64\n",
      " 28  route_HKTOOL                  49281 non-null  float64\n",
      " 29  route_HKTPER                  49281 non-null  float64\n",
      " 30  route_HKTSYD                  49281 non-null  float64\n",
      " 31  route_HNDPEN                  49281 non-null  float64\n",
      " 32  route_HNDPER                  49281 non-null  float64\n",
      " 33  route_HNDSIN                  49281 non-null  float64\n",
      " 34  route_HYDSYD                  49281 non-null  float64\n",
      " 35  route_ICNMEL                  49281 non-null  float64\n",
      " 36  route_ICNPEN                  49281 non-null  float64\n",
      " 37  route_ICNPER                  49281 non-null  float64\n",
      " 38  route_ICNSIN                  49281 non-null  float64\n",
      " 39  route_ICNSYD                  49281 non-null  float64\n",
      " 40  route_JHBKTM                  49281 non-null  float64\n",
      " 41  route_KCHPER                  49281 non-null  float64\n",
      " 42  route_KIXSIN                  49281 non-null  float64\n",
      " 43  route_KTMMFM                  49281 non-null  float64\n",
      " 44  route_KTMPEN                  49281 non-null  float64\n",
      " 45  route_MELPEN                  49281 non-null  float64\n",
      " 46  route_MELSGN                  49281 non-null  float64\n",
      " 47  route_MELTPE                  49281 non-null  float64\n",
      " 48  route_OOLSGN                  49281 non-null  float64\n",
      " 49  route_OTHERS                  49281 non-null  float64\n",
      " 50  route_PENPER                  49281 non-null  float64\n",
      " 51  route_PENSYD                  49281 non-null  float64\n",
      " 52  route_PENTPE                  49281 non-null  float64\n",
      " 53  route_PERSGN                  49281 non-null  float64\n",
      " 54  route_PERTPE                  49281 non-null  float64\n",
      " 55  route_SGNSYD                  49281 non-null  float64\n",
      " 56  booking_origin_Australia      49281 non-null  float64\n",
      " 57  booking_origin_China          49281 non-null  float64\n",
      " 58  booking_origin_Hong Kong      49281 non-null  float64\n",
      " 59  booking_origin_India          49281 non-null  float64\n",
      " 60  booking_origin_Indonesia      49281 non-null  float64\n",
      " 61  booking_origin_Japan          49281 non-null  float64\n",
      " 62  booking_origin_Macau          49281 non-null  float64\n",
      " 63  booking_origin_Malaysia       49281 non-null  float64\n",
      " 64  booking_origin_New Zealand    49281 non-null  float64\n",
      " 65  booking_origin_OTHERS         49281 non-null  float64\n",
      " 66  booking_origin_Philippines    49281 non-null  float64\n",
      " 67  booking_origin_Singapore      49281 non-null  float64\n",
      " 68  booking_origin_South Korea    49281 non-null  float64\n",
      " 69  booking_origin_Taiwan         49281 non-null  float64\n",
      " 70  booking_origin_Thailand       49281 non-null  float64\n",
      " 71  booking_origin_United States  49281 non-null  float64\n",
      " 72  booking_origin_Vietnam        49281 non-null  float64\n",
      " 73  flight_day_oe                 49281 non-null  float64\n",
      " 74  num_passengers_qt             49281 non-null  float64\n",
      " 75  purchase_lead_qt              49281 non-null  float64\n",
      " 76  length_of_stay_qt             49281 non-null  float64\n",
      " 77  flight_hour_qt                49281 non-null  float64\n",
      " 78  flight_duration_qt            49281 non-null  float64\n",
      " 79  wants_extra_baggage           49281 non-null  float64\n",
      " 80  wants_preferred_seat          49281 non-null  float64\n",
      " 81  wants_in_flight_meals         49281 non-null  float64\n",
      "dtypes: float64(82)\n",
      "memory usage: 31.7 MB\n"
     ]
    }
   ],
   "source": [
    "df.info()"
   ]
  },
  {
   "cell_type": "code",
   "execution_count": 54,
   "metadata": {},
   "outputs": [
    {
     "data": {
      "text/plain": [
       "Index(['flight_day_oe', 'num_passengers_qt', 'purchase_lead_qt',\n",
       "       'length_of_stay_qt', 'flight_hour_qt', 'flight_duration_qt'],\n",
       "      dtype='object')"
      ]
     },
     "execution_count": 54,
     "metadata": {},
     "output_type": "execute_result"
    }
   ],
   "source": [
    "var_mms = df.iloc[:,73:79].columns\n",
    "var_mms"
   ]
  },
  {
   "attachments": {},
   "cell_type": "markdown",
   "metadata": {},
   "source": [
    "#### Instantiate"
   ]
  },
  {
   "cell_type": "code",
   "execution_count": 55,
   "metadata": {},
   "outputs": [],
   "source": [
    "mms = MinMaxScaler()"
   ]
  },
  {
   "attachments": {},
   "cell_type": "markdown",
   "metadata": {},
   "source": [
    "#### Fit and transform"
   ]
  },
  {
   "cell_type": "code",
   "execution_count": 56,
   "metadata": {},
   "outputs": [],
   "source": [
    "df_mms = mms.fit_transform(df[var_mms])"
   ]
  },
  {
   "attachments": {},
   "cell_type": "markdown",
   "metadata": {},
   "source": [
    "#### Save as a dataframe"
   ]
  },
  {
   "cell_type": "code",
   "execution_count": 57,
   "metadata": {},
   "outputs": [],
   "source": [
    "#Add suffixes to variables' names\n",
    "nombres_mms = [variable + '_mms' for variable in var_mms]\n",
    "\n",
    "#Save as a dataframe\n",
    "df_mms = pd.DataFrame(df_mms,columns = nombres_mms)"
   ]
  },
  {
   "attachments": {},
   "cell_type": "markdown",
   "metadata": {},
   "source": [
    "### COMBINE SCALED DATASETS"
   ]
  },
  {
   "cell_type": "code",
   "execution_count": 58,
   "metadata": {},
   "outputs": [],
   "source": [
    "include = [df, df_mms, target]"
   ]
  },
  {
   "cell_type": "code",
   "execution_count": 59,
   "metadata": {},
   "outputs": [
    {
     "data": {
      "text/html": [
       "<div>\n",
       "<style scoped>\n",
       "    .dataframe tbody tr th:only-of-type {\n",
       "        vertical-align: middle;\n",
       "    }\n",
       "\n",
       "    .dataframe tbody tr th {\n",
       "        vertical-align: top;\n",
       "    }\n",
       "\n",
       "    .dataframe thead th {\n",
       "        text-align: right;\n",
       "    }\n",
       "</style>\n",
       "<table border=\"1\" class=\"dataframe\">\n",
       "  <thead>\n",
       "    <tr style=\"text-align: right;\">\n",
       "      <th></th>\n",
       "      <th>sales_channel_Internet</th>\n",
       "      <th>sales_channel_Mobile</th>\n",
       "      <th>trip_type_CircleTrip</th>\n",
       "      <th>trip_type_OneWay</th>\n",
       "      <th>trip_type_RoundTrip</th>\n",
       "      <th>route_AKLKUL</th>\n",
       "      <th>route_CGKHND</th>\n",
       "      <th>route_CGKICN</th>\n",
       "      <th>route_CGKKIX</th>\n",
       "      <th>route_CMBMEL</th>\n",
       "      <th>...</th>\n",
       "      <th>wants_extra_baggage</th>\n",
       "      <th>wants_preferred_seat</th>\n",
       "      <th>wants_in_flight_meals</th>\n",
       "      <th>flight_day_oe_mms</th>\n",
       "      <th>num_passengers_qt_mms</th>\n",
       "      <th>purchase_lead_qt_mms</th>\n",
       "      <th>length_of_stay_qt_mms</th>\n",
       "      <th>flight_hour_qt_mms</th>\n",
       "      <th>flight_duration_qt_mms</th>\n",
       "      <th>booking_complete</th>\n",
       "    </tr>\n",
       "  </thead>\n",
       "  <tbody>\n",
       "    <tr>\n",
       "      <th>0</th>\n",
       "      <td>1.0</td>\n",
       "      <td>0.0</td>\n",
       "      <td>0.0</td>\n",
       "      <td>0.0</td>\n",
       "      <td>1.0</td>\n",
       "      <td>0.0</td>\n",
       "      <td>0.0</td>\n",
       "      <td>0.0</td>\n",
       "      <td>0.0</td>\n",
       "      <td>0.0</td>\n",
       "      <td>...</td>\n",
       "      <td>1.0</td>\n",
       "      <td>0.0</td>\n",
       "      <td>0.0</td>\n",
       "      <td>0.833333</td>\n",
       "      <td>0.568158</td>\n",
       "      <td>0.644802</td>\n",
       "      <td>0.517469</td>\n",
       "      <td>0.471729</td>\n",
       "      <td>0.398095</td>\n",
       "      <td>0.0</td>\n",
       "    </tr>\n",
       "    <tr>\n",
       "      <th>1</th>\n",
       "      <td>1.0</td>\n",
       "      <td>0.0</td>\n",
       "      <td>0.0</td>\n",
       "      <td>0.0</td>\n",
       "      <td>1.0</td>\n",
       "      <td>0.0</td>\n",
       "      <td>0.0</td>\n",
       "      <td>0.0</td>\n",
       "      <td>0.0</td>\n",
       "      <td>0.0</td>\n",
       "      <td>...</td>\n",
       "      <td>0.0</td>\n",
       "      <td>0.0</td>\n",
       "      <td>0.0</td>\n",
       "      <td>0.833333</td>\n",
       "      <td>0.000000</td>\n",
       "      <td>0.562833</td>\n",
       "      <td>0.524015</td>\n",
       "      <td>0.403835</td>\n",
       "      <td>0.398095</td>\n",
       "      <td>0.0</td>\n",
       "    </tr>\n",
       "    <tr>\n",
       "      <th>2</th>\n",
       "      <td>1.0</td>\n",
       "      <td>0.0</td>\n",
       "      <td>0.0</td>\n",
       "      <td>0.0</td>\n",
       "      <td>1.0</td>\n",
       "      <td>0.0</td>\n",
       "      <td>0.0</td>\n",
       "      <td>0.0</td>\n",
       "      <td>0.0</td>\n",
       "      <td>0.0</td>\n",
       "      <td>...</td>\n",
       "      <td>1.0</td>\n",
       "      <td>1.0</td>\n",
       "      <td>0.0</td>\n",
       "      <td>0.333333</td>\n",
       "      <td>0.568158</td>\n",
       "      <td>0.633154</td>\n",
       "      <td>0.538528</td>\n",
       "      <td>0.640805</td>\n",
       "      <td>0.398095</td>\n",
       "      <td>0.0</td>\n",
       "    </tr>\n",
       "    <tr>\n",
       "      <th>3</th>\n",
       "      <td>1.0</td>\n",
       "      <td>0.0</td>\n",
       "      <td>0.0</td>\n",
       "      <td>0.0</td>\n",
       "      <td>1.0</td>\n",
       "      <td>0.0</td>\n",
       "      <td>0.0</td>\n",
       "      <td>0.0</td>\n",
       "      <td>0.0</td>\n",
       "      <td>0.0</td>\n",
       "      <td>...</td>\n",
       "      <td>0.0</td>\n",
       "      <td>0.0</td>\n",
       "      <td>1.0</td>\n",
       "      <td>0.833333</td>\n",
       "      <td>0.000000</td>\n",
       "      <td>0.550762</td>\n",
       "      <td>0.580524</td>\n",
       "      <td>0.423517</td>\n",
       "      <td>0.398095</td>\n",
       "      <td>0.0</td>\n",
       "    </tr>\n",
       "    <tr>\n",
       "      <th>4</th>\n",
       "      <td>1.0</td>\n",
       "      <td>0.0</td>\n",
       "      <td>0.0</td>\n",
       "      <td>0.0</td>\n",
       "      <td>1.0</td>\n",
       "      <td>0.0</td>\n",
       "      <td>0.0</td>\n",
       "      <td>0.0</td>\n",
       "      <td>0.0</td>\n",
       "      <td>0.0</td>\n",
       "      <td>...</td>\n",
       "      <td>1.0</td>\n",
       "      <td>0.0</td>\n",
       "      <td>1.0</td>\n",
       "      <td>0.333333</td>\n",
       "      <td>0.568158</td>\n",
       "      <td>0.522648</td>\n",
       "      <td>0.538528</td>\n",
       "      <td>0.607357</td>\n",
       "      <td>0.398095</td>\n",
       "      <td>0.0</td>\n",
       "    </tr>\n",
       "  </tbody>\n",
       "</table>\n",
       "<p>5 rows × 89 columns</p>\n",
       "</div>"
      ],
      "text/plain": [
       "   sales_channel_Internet  sales_channel_Mobile  trip_type_CircleTrip  \\\n",
       "0                     1.0                   0.0                   0.0   \n",
       "1                     1.0                   0.0                   0.0   \n",
       "2                     1.0                   0.0                   0.0   \n",
       "3                     1.0                   0.0                   0.0   \n",
       "4                     1.0                   0.0                   0.0   \n",
       "\n",
       "   trip_type_OneWay  trip_type_RoundTrip  route_AKLKUL  route_CGKHND  \\\n",
       "0               0.0                  1.0           0.0           0.0   \n",
       "1               0.0                  1.0           0.0           0.0   \n",
       "2               0.0                  1.0           0.0           0.0   \n",
       "3               0.0                  1.0           0.0           0.0   \n",
       "4               0.0                  1.0           0.0           0.0   \n",
       "\n",
       "   route_CGKICN  route_CGKKIX  route_CMBMEL  ...  wants_extra_baggage  \\\n",
       "0           0.0           0.0           0.0  ...                  1.0   \n",
       "1           0.0           0.0           0.0  ...                  0.0   \n",
       "2           0.0           0.0           0.0  ...                  1.0   \n",
       "3           0.0           0.0           0.0  ...                  0.0   \n",
       "4           0.0           0.0           0.0  ...                  1.0   \n",
       "\n",
       "   wants_preferred_seat  wants_in_flight_meals  flight_day_oe_mms  \\\n",
       "0                   0.0                    0.0           0.833333   \n",
       "1                   0.0                    0.0           0.833333   \n",
       "2                   1.0                    0.0           0.333333   \n",
       "3                   0.0                    1.0           0.833333   \n",
       "4                   0.0                    1.0           0.333333   \n",
       "\n",
       "   num_passengers_qt_mms  purchase_lead_qt_mms  length_of_stay_qt_mms  \\\n",
       "0               0.568158              0.644802               0.517469   \n",
       "1               0.000000              0.562833               0.524015   \n",
       "2               0.568158              0.633154               0.538528   \n",
       "3               0.000000              0.550762               0.580524   \n",
       "4               0.568158              0.522648               0.538528   \n",
       "\n",
       "   flight_hour_qt_mms  flight_duration_qt_mms  booking_complete  \n",
       "0            0.471729                0.398095               0.0  \n",
       "1            0.403835                0.398095               0.0  \n",
       "2            0.640805                0.398095               0.0  \n",
       "3            0.423517                0.398095               0.0  \n",
       "4            0.607357                0.398095               0.0  \n",
       "\n",
       "[5 rows x 89 columns]"
      ]
     },
     "execution_count": 59,
     "metadata": {},
     "output_type": "execute_result"
    }
   ],
   "source": [
    "df_final = pd.concat(include, axis=1)\n",
    "df_final.head()"
   ]
  },
  {
   "attachments": {},
   "cell_type": "markdown",
   "metadata": {},
   "source": [
    "Save the transformed dataframe in .pickle format to proceed to the next step (modeling)."
   ]
  },
  {
   "cell_type": "code",
   "execution_count": 60,
   "metadata": {},
   "outputs": [],
   "source": [
    "pd.to_pickle(df_final, \"df_transformed.pickle\")"
   ]
  }
 ],
 "metadata": {
  "kernelspec": {
   "display_name": "project_BA",
   "language": "python",
   "name": "python3"
  },
  "language_info": {
   "codemirror_mode": {
    "name": "ipython",
    "version": 3
   },
   "file_extension": ".py",
   "mimetype": "text/x-python",
   "name": "python",
   "nbconvert_exporter": "python",
   "pygments_lexer": "ipython3",
   "version": "3.11.3"
  },
  "orig_nbformat": 4
 },
 "nbformat": 4,
 "nbformat_minor": 2
}
